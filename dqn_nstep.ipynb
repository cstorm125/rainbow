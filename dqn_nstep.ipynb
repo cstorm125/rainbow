{
 "cells": [
  {
   "cell_type": "markdown",
   "metadata": {},
   "source": [
    "# [Deep Q-learning with n-step Rewards](https://web.stanford.edu/class/psych209/Readings/SuttonBartoIPRLBook2ndEd.pdf)"
   ]
  },
  {
   "cell_type": "code",
   "execution_count": 1,
   "metadata": {},
   "outputs": [],
   "source": [
    "# #uncomment if you're running from colab\n",
    "# %tensorflow_version 2.x\n",
    "\n",
    "%load_ext autoreload\n",
    "%autoreload 2\n",
    "%matplotlib inline\n",
    "\n",
    "from collections import deque, Counter\n",
    "import random\n",
    "import gym\n",
    "from datetime import datetime\n",
    "import pandas as pd\n",
    "import numpy as np\n",
    "import tensorflow as tf\n",
    "from tensorflow.keras import models, layers, optimizers\n",
    "from tqdm import tqdm_notebook"
   ]
  },
  {
   "cell_type": "code",
   "execution_count": 2,
   "metadata": {},
   "outputs": [
    {
     "name": "stderr",
     "output_type": "stream",
     "text": [
      "/home/charin/anaconda3/envs/drlnd/lib/python3.6/site-packages/gym/envs/registration.py:14: PkgResourcesDeprecationWarning: Parameters to load are deprecated.  Call .resolve and .require separately.\n",
      "  result = entry_point.load(False)\n"
     ]
    },
    {
     "name": "stdout",
     "output_type": "stream",
     "text": [
      "\u001b[33mWARN: gym.spaces.Box autodetected dtype as <class 'numpy.float32'>. Please provide explicit dtype.\u001b[0m\n"
     ]
    }
   ],
   "source": [
    "from solutions.memories import NStepMemory, VanillaMemory\n",
    "from solutions.agents import DQNAgent\n",
    "\n",
    "env = gym.make('CartPole-v1')\n",
    "mem = NStepMemory(int(1e5), n=2, gamma=0.99)\n",
    "# mem = VanillaMemory(int(1e5))\n",
    "a = DQNAgent(state_size = env.reset().shape[0], \n",
    "             action_size = env.action_space.n, replay_memory = mem) "
   ]
  },
  {
   "cell_type": "code",
   "execution_count": 3,
   "metadata": {},
   "outputs": [
    {
     "data": {
      "application/vnd.jupyter.widget-view+json": {
       "model_id": "49dddfebd0fe4724a593bfdb2fe3f3d9",
       "version_major": 2,
       "version_minor": 0
      },
      "text/plain": [
       "HBox(children=(IntProgress(value=0, max=10000), HTML(value='')))"
      ]
     },
     "metadata": {},
     "output_type": "display_data"
    },
    {
     "name": "stdout",
     "output_type": "stream",
     "text": [
      "Episdoe 99 Moving Average: 12.02020202020202\n",
      "Episdoe 199 Moving Average: 9.44\n",
      "Episdoe 299 Moving Average: 9.55\n",
      "Episdoe 399 Moving Average: 12.02\n",
      "Episdoe 499 Moving Average: 50.03\n",
      "Episdoe 599 Moving Average: 88.24\n",
      "Episdoe 699 Moving Average: 140.36\n",
      "Solved at Play 794: 0:11:30.825968 Moving average: 201.41\n"
     ]
    }
   ],
   "source": [
    "scores = []\n",
    "scores_deque = deque(maxlen=100) \n",
    "moving_scores = []\n",
    "start_time = datetime.now()\n",
    "solved_score=200\n",
    "action_df = []\n",
    "weight_df = []\n",
    "\n",
    "for i in tqdm_notebook(range(10000)):\n",
    "    if (i+1) % 100==0: print(f'Episdoe {i} Moving Average: {np.mean(scores_deque)}')\n",
    "    state = env.reset()\n",
    "    score = 0\n",
    "    t=0\n",
    "    actions = []\n",
    "    while True:\n",
    "        t+=1\n",
    "        #select action\n",
    "        action = a.act(state)  \n",
    "        actions.append(action)\n",
    "\n",
    "        #env step\n",
    "        next_state, reward, done, info = env.step(action)   \n",
    "        \n",
    "        #engineer the reward to motivate your agent even more\n",
    "        if done: \n",
    "            fake_reward = reward\n",
    "        else:\n",
    "            fake_reward = reward\n",
    "        \n",
    "        #agent step\n",
    "        a.step(state,action,fake_reward,next_state,done)\n",
    "        \n",
    "        #collect score\n",
    "        score += reward\n",
    "        \n",
    "        #go to next state\n",
    "        state = next_state   \n",
    "        \n",
    "        #break if done\n",
    "        if done: break\n",
    "            \n",
    "    #book keeping\n",
    "    scores.append(score)\n",
    "    scores_deque.append(score)\n",
    "    moving_scores.append(np.mean(scores_deque))\n",
    "    action_df.append(Counter(actions))\n",
    "    weight_df.append([tf.reduce_mean(i).numpy() for i in a.network_local.get_weights()])\n",
    "\n",
    "    if moving_scores[-1] > solved_score: \n",
    "        print(f'Solved at Play {i}: {datetime.now() - start_time} Moving average: {moving_scores[-1]}')\n",
    "        break"
   ]
  },
  {
   "cell_type": "code",
   "execution_count": 4,
   "metadata": {},
   "outputs": [
    {
     "data": {
      "text/plain": [
       "[<matplotlib.lines.Line2D at 0x7fb6d94f0e10>]"
      ]
     },
     "execution_count": 4,
     "metadata": {},
     "output_type": "execute_result"
    },
    {
     "data": {
      "image/png": "[encoded data removed]",
      "text/plain": [
       "<Figure size 432x288 with 1 Axes>"
      ]
     },
     "metadata": {
      "needs_background": "light"
     },
     "output_type": "display_data"
    }
   ],
   "source": [
    "import matplotlib.pyplot as plt\n",
    "plt.plot(scores)\n",
    "plt.plot(moving_scores)"
   ]
  },
  {
   "cell_type": "code",
   "execution_count": 5,
   "metadata": {},
   "outputs": [
    {
     "data": {
      "text/plain": [
       "[<matplotlib.lines.Line2D at 0x7fb6d9731d68>]"
      ]
     },
     "execution_count": 5,
     "metadata": {},
     "output_type": "execute_result"
    },
    {
     "data": {
      "image/png": "[encoded data removed]",
      "text/plain": [
       "<Figure size 432x288 with 1 Axes>"
      ]
     },
     "metadata": {
      "needs_background": "light"
     },
     "output_type": "display_data"
    }
   ],
   "source": [
    "plt.plot(a.losses)"
   ]
  },
  {
   "cell_type": "code",
   "execution_count": 6,
   "metadata": {},
   "outputs": [
    {
     "data": {
      "text/html": [
       "<div>\n",
       "<style scoped>\n",
       "    .dataframe tbody tr th:only-of-type {\n",
       "        vertical-align: middle;\n",
       "    }\n",
       "\n",
       "    .dataframe tbody tr th {\n",
       "        vertical-align: top;\n",
       "    }\n",
       "\n",
       "    .dataframe thead th {\n",
       "        text-align: right;\n",
       "    }\n",
       "</style>\n",
       "<table border=\"1\" class=\"dataframe\">\n",
       "  <thead>\n",
       "    <tr style=\"text-align: right;\">\n",
       "      <th></th>\n",
       "      <th>action</th>\n",
       "      <th>done</th>\n",
       "      <th>episode</th>\n",
       "      <th>reward</th>\n",
       "      <th>state</th>\n",
       "      <th>timestep</th>\n",
       "      <th>next_state</th>\n",
       "      <th>discounted_return</th>\n",
       "    </tr>\n",
       "  </thead>\n",
       "  <tbody>\n",
       "    <tr>\n",
       "      <th>0</th>\n",
       "      <td>0</td>\n",
       "      <td>False</td>\n",
       "      <td>0</td>\n",
       "      <td>1.0</td>\n",
       "      <td>[0.03433668891170977, 0.023492368499176006, 0....</td>\n",
       "      <td>0</td>\n",
       "      <td>[0.03136551440815641, 0.022621762238504872, 0....</td>\n",
       "      <td>1.5</td>\n",
       "    </tr>\n",
       "    <tr>\n",
       "      <th>1</th>\n",
       "      <td>1</td>\n",
       "      <td>False</td>\n",
       "      <td>0</td>\n",
       "      <td>1.0</td>\n",
       "      <td>[0.034806536281693286, -0.17205109367684368, 0...</td>\n",
       "      <td>1</td>\n",
       "      <td>[0.0318179496529265, 0.21719508284598038, 0.03...</td>\n",
       "      <td>1.5</td>\n",
       "    </tr>\n",
       "    <tr>\n",
       "      <th>2</th>\n",
       "      <td>1</td>\n",
       "      <td>False</td>\n",
       "      <td>0</td>\n",
       "      <td>1.0</td>\n",
       "      <td>[0.03136551440815641, 0.022621762238504872, 0....</td>\n",
       "      <td>2</td>\n",
       "      <td>[0.03616185130984611, 0.4117603396147202, 0.03...</td>\n",
       "      <td>1.5</td>\n",
       "    </tr>\n",
       "    <tr>\n",
       "      <th>3</th>\n",
       "      <td>1</td>\n",
       "      <td>False</td>\n",
       "      <td>0</td>\n",
       "      <td>1.0</td>\n",
       "      <td>[0.0318179496529265, 0.21719508284598038, 0.03...</td>\n",
       "      <td>3</td>\n",
       "      <td>[0.044397058102140514, 0.6064079506149699, 0.0...</td>\n",
       "      <td>1.5</td>\n",
       "    </tr>\n",
       "    <tr>\n",
       "      <th>4</th>\n",
       "      <td>1</td>\n",
       "      <td>False</td>\n",
       "      <td>0</td>\n",
       "      <td>1.0</td>\n",
       "      <td>[0.03616185130984611, 0.4117603396147202, 0.03...</td>\n",
       "      <td>4</td>\n",
       "      <td>[0.05652521711443991, 0.8012202642094031, 0.00...</td>\n",
       "      <td>1.5</td>\n",
       "    </tr>\n",
       "  </tbody>\n",
       "</table>\n",
       "</div>"
      ],
      "text/plain": [
       "   action   done  episode  reward  \\\n",
       "0       0  False        0     1.0   \n",
       "1       1  False        0     1.0   \n",
       "2       1  False        0     1.0   \n",
       "3       1  False        0     1.0   \n",
       "4       1  False        0     1.0   \n",
       "\n",
       "                                               state  timestep  \\\n",
       "0  [0.03433668891170977, 0.023492368499176006, 0....         0   \n",
       "1  [0.034806536281693286, -0.17205109367684368, 0...         1   \n",
       "2  [0.03136551440815641, 0.022621762238504872, 0....         2   \n",
       "3  [0.0318179496529265, 0.21719508284598038, 0.03...         3   \n",
       "4  [0.03616185130984611, 0.4117603396147202, 0.03...         4   \n",
       "\n",
       "                                          next_state  discounted_return  \n",
       "0  [0.03136551440815641, 0.022621762238504872, 0....                1.5  \n",
       "1  [0.0318179496529265, 0.21719508284598038, 0.03...                1.5  \n",
       "2  [0.03616185130984611, 0.4117603396147202, 0.03...                1.5  \n",
       "3  [0.044397058102140514, 0.6064079506149699, 0.0...                1.5  \n",
       "4  [0.05652521711443991, 0.8012202642094031, 0.00...                1.5  "
      ]
     },
     "execution_count": 6,
     "metadata": {},
     "output_type": "execute_result"
    }
   ],
   "source": [
    "mem.df.head()"
   ]
  },
  {
   "cell_type": "code",
   "execution_count": 12,
   "metadata": {},
   "outputs": [
    {
     "data": {
      "text/html": [
       "<div>\n",
       "<style scoped>\n",
       "    .dataframe tbody tr th:only-of-type {\n",
       "        vertical-align: middle;\n",
       "    }\n",
       "\n",
       "    .dataframe tbody tr th {\n",
       "        vertical-align: top;\n",
       "    }\n",
       "\n",
       "    .dataframe thead th {\n",
       "        text-align: right;\n",
       "    }\n",
       "</style>\n",
       "<table border=\"1\" class=\"dataframe\">\n",
       "  <thead>\n",
       "    <tr style=\"text-align: right;\">\n",
       "      <th></th>\n",
       "      <th>action</th>\n",
       "      <th>done</th>\n",
       "      <th>episode</th>\n",
       "      <th>reward</th>\n",
       "      <th>state</th>\n",
       "      <th>timestep</th>\n",
       "      <th>next_state</th>\n",
       "      <th>discounted_return</th>\n",
       "    </tr>\n",
       "  </thead>\n",
       "  <tbody>\n",
       "    <tr>\n",
       "      <th>14</th>\n",
       "      <td>0</td>\n",
       "      <td>True</td>\n",
       "      <td>0</td>\n",
       "      <td>1.0</td>\n",
       "      <td>[0.19282835619708308, 1.1986987898028705, -0.1...</td>\n",
       "      <td>14</td>\n",
       "      <td>[0.19282835619708308, 1.1986987898028705, -0.1...</td>\n",
       "      <td>1.0</td>\n",
       "    </tr>\n",
       "    <tr>\n",
       "      <th>46</th>\n",
       "      <td>0</td>\n",
       "      <td>True</td>\n",
       "      <td>1</td>\n",
       "      <td>1.0</td>\n",
       "      <td>[-0.0038269914973300253, 0.1428512839056358, 0...</td>\n",
       "      <td>32</td>\n",
       "      <td>[-0.0038269914973300253, 0.1428512839056358, 0...</td>\n",
       "      <td>1.0</td>\n",
       "    </tr>\n",
       "    <tr>\n",
       "      <th>69</th>\n",
       "      <td>0</td>\n",
       "      <td>True</td>\n",
       "      <td>2</td>\n",
       "      <td>1.0</td>\n",
       "      <td>[-0.14378612431004473, -0.44015147823804834, 0...</td>\n",
       "      <td>23</td>\n",
       "      <td>[-0.14378612431004473, -0.44015147823804834, 0...</td>\n",
       "      <td>1.0</td>\n",
       "    </tr>\n",
       "    <tr>\n",
       "      <th>104</th>\n",
       "      <td>1</td>\n",
       "      <td>True</td>\n",
       "      <td>3</td>\n",
       "      <td>1.0</td>\n",
       "      <td>[-0.18680158831027752, -1.2057293266407787, 0....</td>\n",
       "      <td>35</td>\n",
       "      <td>[-0.18680158831027752, -1.2057293266407787, 0....</td>\n",
       "      <td>1.0</td>\n",
       "    </tr>\n",
       "    <tr>\n",
       "      <th>121</th>\n",
       "      <td>1</td>\n",
       "      <td>True</td>\n",
       "      <td>4</td>\n",
       "      <td>1.0</td>\n",
       "      <td>[-0.09003737811736337, -1.1655991850855871, 0....</td>\n",
       "      <td>17</td>\n",
       "      <td>[-0.09003737811736337, -1.1655991850855871, 0....</td>\n",
       "      <td>1.0</td>\n",
       "    </tr>\n",
       "  </tbody>\n",
       "</table>\n",
       "</div>"
      ],
      "text/plain": [
       "     action  done  episode  reward  \\\n",
       "14        0  True        0     1.0   \n",
       "46        0  True        1     1.0   \n",
       "69        0  True        2     1.0   \n",
       "104       1  True        3     1.0   \n",
       "121       1  True        4     1.0   \n",
       "\n",
       "                                                 state  timestep  \\\n",
       "14   [0.19282835619708308, 1.1986987898028705, -0.1...        14   \n",
       "46   [-0.0038269914973300253, 0.1428512839056358, 0...        32   \n",
       "69   [-0.14378612431004473, -0.44015147823804834, 0...        23   \n",
       "104  [-0.18680158831027752, -1.2057293266407787, 0....        35   \n",
       "121  [-0.09003737811736337, -1.1655991850855871, 0....        17   \n",
       "\n",
       "                                            next_state  discounted_return  \n",
       "14   [0.19282835619708308, 1.1986987898028705, -0.1...                1.0  \n",
       "46   [-0.0038269914973300253, 0.1428512839056358, 0...                1.0  \n",
       "69   [-0.14378612431004473, -0.44015147823804834, 0...                1.0  \n",
       "104  [-0.18680158831027752, -1.2057293266407787, 0....                1.0  \n",
       "121  [-0.09003737811736337, -1.1655991850855871, 0....                1.0  "
      ]
     },
     "execution_count": 12,
     "metadata": {},
     "output_type": "execute_result"
    }
   ],
   "source": [
    "mem.df[mem.df.done==True].head()"
   ]
  },
  {
   "cell_type": "code",
   "execution_count": 8,
   "metadata": {},
   "outputs": [
    {
     "data": {
      "text/html": [
       "<div>\n",
       "<style scoped>\n",
       "    .dataframe tbody tr th:only-of-type {\n",
       "        vertical-align: middle;\n",
       "    }\n",
       "\n",
       "    .dataframe tbody tr th {\n",
       "        vertical-align: top;\n",
       "    }\n",
       "\n",
       "    .dataframe thead th {\n",
       "        text-align: right;\n",
       "    }\n",
       "</style>\n",
       "<table border=\"1\" class=\"dataframe\">\n",
       "  <thead>\n",
       "    <tr style=\"text-align: right;\">\n",
       "      <th></th>\n",
       "      <th>action</th>\n",
       "      <th>done</th>\n",
       "      <th>episode</th>\n",
       "      <th>reward</th>\n",
       "      <th>state</th>\n",
       "      <th>timestep</th>\n",
       "      <th>next_state</th>\n",
       "      <th>discounted_return</th>\n",
       "    </tr>\n",
       "  </thead>\n",
       "  <tbody>\n",
       "    <tr>\n",
       "      <th>51606</th>\n",
       "      <td>0</td>\n",
       "      <td>False</td>\n",
       "      <td>794</td>\n",
       "      <td>1.0</td>\n",
       "      <td>[1.0683480938007988, -1.2318328296693015, -0.0...</td>\n",
       "      <td>220</td>\n",
       "      <td>[1.015194805110556, -1.6197431551349593, -0.07...</td>\n",
       "      <td>1.5</td>\n",
       "    </tr>\n",
       "    <tr>\n",
       "      <th>51607</th>\n",
       "      <td>0</td>\n",
       "      <td>False</td>\n",
       "      <td>794</td>\n",
       "      <td>1.0</td>\n",
       "      <td>[1.0437114372074128, -1.425831604842846, -0.07...</td>\n",
       "      <td>221</td>\n",
       "      <td>[0.9827999420078567, -1.4235965914381228, -0.0...</td>\n",
       "      <td>1.5</td>\n",
       "    </tr>\n",
       "    <tr>\n",
       "      <th>51608</th>\n",
       "      <td>1</td>\n",
       "      <td>False</td>\n",
       "      <td>794</td>\n",
       "      <td>1.0</td>\n",
       "      <td>[1.015194805110556, -1.6197431551349593, -0.07...</td>\n",
       "      <td>222</td>\n",
       "      <td>[0.9543280101790942, -1.6176053033914313, -0.0...</td>\n",
       "      <td>1.5</td>\n",
       "    </tr>\n",
       "    <tr>\n",
       "      <th>51609</th>\n",
       "      <td>0</td>\n",
       "      <td>False</td>\n",
       "      <td>794</td>\n",
       "      <td>1.0</td>\n",
       "      <td>[0.9827999420078567, -1.4235965914381228, -0.0...</td>\n",
       "      <td>223</td>\n",
       "      <td>[0.9827999420078567, -1.4235965914381228, -0.0...</td>\n",
       "      <td>1.5</td>\n",
       "    </tr>\n",
       "    <tr>\n",
       "      <th>51610</th>\n",
       "      <td>1</td>\n",
       "      <td>False</td>\n",
       "      <td>794</td>\n",
       "      <td>1.0</td>\n",
       "      <td>[0.9543280101790942, -1.6176053033914313, -0.0...</td>\n",
       "      <td>224</td>\n",
       "      <td>[0.9543280101790942, -1.6176053033914313, -0.0...</td>\n",
       "      <td>1.0</td>\n",
       "    </tr>\n",
       "  </tbody>\n",
       "</table>\n",
       "</div>"
      ],
      "text/plain": [
       "       action   done  episode  reward  \\\n",
       "51606       0  False      794     1.0   \n",
       "51607       0  False      794     1.0   \n",
       "51608       1  False      794     1.0   \n",
       "51609       0  False      794     1.0   \n",
       "51610       1  False      794     1.0   \n",
       "\n",
       "                                                   state  timestep  \\\n",
       "51606  [1.0683480938007988, -1.2318328296693015, -0.0...       220   \n",
       "51607  [1.0437114372074128, -1.425831604842846, -0.07...       221   \n",
       "51608  [1.015194805110556, -1.6197431551349593, -0.07...       222   \n",
       "51609  [0.9827999420078567, -1.4235965914381228, -0.0...       223   \n",
       "51610  [0.9543280101790942, -1.6176053033914313, -0.0...       224   \n",
       "\n",
       "                                              next_state  discounted_return  \n",
       "51606  [1.015194805110556, -1.6197431551349593, -0.07...                1.5  \n",
       "51607  [0.9827999420078567, -1.4235965914381228, -0.0...                1.5  \n",
       "51608  [0.9543280101790942, -1.6176053033914313, -0.0...                1.5  \n",
       "51609  [0.9827999420078567, -1.4235965914381228, -0.0...                1.5  \n",
       "51610  [0.9543280101790942, -1.6176053033914313, -0.0...                1.0  "
      ]
     },
     "execution_count": 8,
     "metadata": {},
     "output_type": "execute_result"
    }
   ],
   "source": [
    "mem.df.tail()"
   ]
  },
  {
   "cell_type": "code",
   "execution_count": 9,
   "metadata": {},
   "outputs": [
    {
     "data": {
      "image/png": "[encoded data removed]",
      "text/plain": [
       "<Figure size 432x288 with 1 Axes>"
      ]
     },
     "metadata": {
      "needs_background": "light"
     },
     "output_type": "display_data"
    }
   ],
   "source": [
    "action_df = pd.DataFrame(action_df)\n",
    "for i in action_df.columns:\n",
    "    plt.plot(action_df[i])"
   ]
  },
  {
   "cell_type": "code",
   "execution_count": 10,
   "metadata": {},
   "outputs": [
    {
     "data": {
      "text/plain": [
       "[<matplotlib.lines.Line2D at 0x7fb6c4542cc0>]"
      ]
     },
     "execution_count": 10,
     "metadata": {},
     "output_type": "execute_result"
    },
    {
     "data": {
      "image/png": "[encoded data removed]",
      "text/plain": [
       "<Figure size 432x288 with 1 Axes>"
      ]
     },
     "metadata": {
      "needs_background": "light"
     },
     "output_type": "display_data"
    }
   ],
   "source": [
    "plt.plot(action_df[0]/action_df[1])\n",
    "plt.plot([1 for i in range(action_df.shape[0])])"
   ]
  },
  {
   "cell_type": "code",
   "execution_count": 11,
   "metadata": {},
   "outputs": [
    {
     "data": {
      "text/plain": [
       "<matplotlib.legend.Legend at 0x7fb6c4531a90>"
      ]
     },
     "execution_count": 11,
     "metadata": {},
     "output_type": "execute_result"
    },
    {
     "data": {
      "image/png": "[encoded data removed]",
      "text/plain": [
       "<Figure size 432x288 with 1 Axes>"
      ]
     },
     "metadata": {
      "needs_background": "light"
     },
     "output_type": "display_data"
    }
   ],
   "source": [
    "weight_df = pd.DataFrame(weight_df)\n",
    "weight_df.columns = [str(i.shape) for i in a.network_local.get_weights()]\n",
    "weight_df.columns = ['w1','b1','w2','b2','w3','b3']\n",
    "for i in range(weight_df.shape[1]):\n",
    "    plt.plot(weight_df.iloc[:,i])\n",
    "plt.legend(bbox_to_anchor=(1.05,1),loc=2)"
   ]
  },
  {
   "cell_type": "code",
   "execution_count": null,
   "metadata": {},
   "outputs": [],
   "source": []
  }
 ],
 "metadata": {
  "kernelspec": {
   "display_name": "Python 3",
   "language": "python",
   "name": "python3"
  },
  "language_info": {
   "codemirror_mode": {
    "name": "ipython",
    "version": 3
   },
   "file_extension": ".py",
   "mimetype": "text/x-python",
   "name": "python",
   "nbconvert_exporter": "python",
   "pygments_lexer": "ipython3",
   "version": "3.6.8"
  }
 },
 "nbformat": 4,
 "nbformat_minor": 2
}
