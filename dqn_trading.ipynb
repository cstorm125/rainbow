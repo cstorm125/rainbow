{
 "cells": [
  {
   "cell_type": "markdown",
   "metadata": {},
   "source": [
    "# Trading Assets with DQN"
   ]
  },
  {
   "cell_type": "markdown",
   "metadata": {},
   "source": [
    "The goal of this exercise is to train an RL agent of DQN variant to trade Bitcoins on a minute level. Our objective is simply to get **the highest returns possible within any given 10-hour period**. The dataset of Bitcoin prices at 1-min intervals from select exchanges, Jan 2012 to July 2018, comes from [Kaggle's Bitcoin Historical Data](https://www.dropbox.com/s/b2wo4cc3hotcx63/bitstampUSD_1-min_data_2012-01-01_to_2018-06-27.csv)."
   ]
  },
  {
   "cell_type": "code",
   "execution_count": 1,
   "metadata": {},
   "outputs": [],
   "source": [
    "# #Uncomment if you are running from Google Colaboratory\n",
    "# %tensorflow_version 2.x\n",
    "# #data\n",
    "# !wget https://www.dropbox.com/s/b2wo4cc3hotcx63/bitstampUSD_1-min_data_2012-01-01_to_2018-06-27.csv"
   ]
  },
  {
   "cell_type": "code",
   "execution_count": 1,
   "metadata": {},
   "outputs": [],
   "source": [
    "%load_ext autoreload\n",
    "%autoreload 2\n",
    "%matplotlib inline\n",
    "\n",
    "import matplotlib.pyplot as plt\n",
    "from plotnine import *\n",
    "import pandas as pd\n",
    "import numpy as np\n",
    "from tqdm import tqdm_notebook\n",
    "from collections import deque\n",
    "\n",
    "import warnings\n",
    "warnings.filterwarnings('ignore')"
   ]
  },
  {
   "cell_type": "markdown",
   "metadata": {},
   "source": [
    "## Explore Dataset"
   ]
  },
  {
   "cell_type": "markdown",
   "metadata": {},
   "source": [
    "We use difference in price of `close` as the returns.  Go to [Kaggle](https://www.kaggle.com/mczielinski/bitcoin-historical-data/version/14), and **fill in the blank** for the following items about the dataset:\n",
    "\n",
    "* `timestamp`:\n",
    "* `open`:\n",
    "* `high`:\n",
    "* `low`:\n",
    "* `close`: price at the end of the minute\n",
    "* `volume_btc`:\n",
    "* `volume_currency`:\n",
    "* `weighted_close`:\n",
    "* Why should we use or not use `close` to calculate our returns?"
   ]
  },
  {
   "cell_type": "code",
   "execution_count": 2,
   "metadata": {},
   "outputs": [
    {
     "data": {
      "text/html": [
       "<div>\n",
       "<style scoped>\n",
       "    .dataframe tbody tr th:only-of-type {\n",
       "        vertical-align: middle;\n",
       "    }\n",
       "\n",
       "    .dataframe tbody tr th {\n",
       "        vertical-align: top;\n",
       "    }\n",
       "\n",
       "    .dataframe thead th {\n",
       "        text-align: right;\n",
       "    }\n",
       "</style>\n",
       "<table border=\"1\" class=\"dataframe\">\n",
       "  <thead>\n",
       "    <tr style=\"text-align: right;\">\n",
       "      <th></th>\n",
       "      <th>timestamp</th>\n",
       "      <th>open</th>\n",
       "      <th>high</th>\n",
       "      <th>low</th>\n",
       "      <th>close</th>\n",
       "      <th>volume_btc</th>\n",
       "      <th>volume_currency</th>\n",
       "      <th>weighted_close</th>\n",
       "    </tr>\n",
       "  </thead>\n",
       "  <tbody>\n",
       "    <tr>\n",
       "      <td>0</td>\n",
       "      <td>1325317920</td>\n",
       "      <td>4.39</td>\n",
       "      <td>4.39</td>\n",
       "      <td>4.39</td>\n",
       "      <td>4.39</td>\n",
       "      <td>0.455581</td>\n",
       "      <td>2.0</td>\n",
       "      <td>4.39</td>\n",
       "    </tr>\n",
       "    <tr>\n",
       "      <td>1</td>\n",
       "      <td>1325317980</td>\n",
       "      <td>4.39</td>\n",
       "      <td>4.39</td>\n",
       "      <td>4.39</td>\n",
       "      <td>4.39</td>\n",
       "      <td>0.455581</td>\n",
       "      <td>2.0</td>\n",
       "      <td>4.39</td>\n",
       "    </tr>\n",
       "    <tr>\n",
       "      <td>2</td>\n",
       "      <td>1325318040</td>\n",
       "      <td>4.39</td>\n",
       "      <td>4.39</td>\n",
       "      <td>4.39</td>\n",
       "      <td>4.39</td>\n",
       "      <td>0.455581</td>\n",
       "      <td>2.0</td>\n",
       "      <td>4.39</td>\n",
       "    </tr>\n",
       "    <tr>\n",
       "      <td>3</td>\n",
       "      <td>1325318100</td>\n",
       "      <td>4.39</td>\n",
       "      <td>4.39</td>\n",
       "      <td>4.39</td>\n",
       "      <td>4.39</td>\n",
       "      <td>0.455581</td>\n",
       "      <td>2.0</td>\n",
       "      <td>4.39</td>\n",
       "    </tr>\n",
       "    <tr>\n",
       "      <td>4</td>\n",
       "      <td>1325318160</td>\n",
       "      <td>4.39</td>\n",
       "      <td>4.39</td>\n",
       "      <td>4.39</td>\n",
       "      <td>4.39</td>\n",
       "      <td>0.455581</td>\n",
       "      <td>2.0</td>\n",
       "      <td>4.39</td>\n",
       "    </tr>\n",
       "  </tbody>\n",
       "</table>\n",
       "</div>"
      ],
      "text/plain": [
       "    timestamp  open  high   low  close  volume_btc  volume_currency  \\\n",
       "0  1325317920  4.39  4.39  4.39   4.39    0.455581              2.0   \n",
       "1  1325317980  4.39  4.39  4.39   4.39    0.455581              2.0   \n",
       "2  1325318040  4.39  4.39  4.39   4.39    0.455581              2.0   \n",
       "3  1325318100  4.39  4.39  4.39   4.39    0.455581              2.0   \n",
       "4  1325318160  4.39  4.39  4.39   4.39    0.455581              2.0   \n",
       "\n",
       "   weighted_close  \n",
       "0            4.39  \n",
       "1            4.39  \n",
       "2            4.39  \n",
       "3            4.39  \n",
       "4            4.39  "
      ]
     },
     "execution_count": 2,
     "metadata": {},
     "output_type": "execute_result"
    }
   ],
   "source": [
    "df = pd.read_csv('bitstampUSD_1-min_data_2012-01-01_to_2018-06-27.csv')\n",
    "df.columns = ['timestamp','open','high','low','close','volume_btc','volume_currency','weighted_close']\n",
    "df.head()"
   ]
  },
  {
   "cell_type": "markdown",
   "metadata": {},
   "source": [
    "As we can see, the first few years of Bitcoin is not so interesting so we will use the last 10,000 minutes as our validation set and the last 100,000 minutes (excluding validation set) as our training set."
   ]
  },
  {
   "cell_type": "code",
   "execution_count": 3,
   "metadata": {},
   "outputs": [
    {
     "data": {
      "text/plain": [
       "<matplotlib.axes._subplots.AxesSubplot at 0x7f51e5f114e0>"
      ]
     },
     "execution_count": 3,
     "metadata": {},
     "output_type": "execute_result"
    },
    {
     "data": {
      "image/png": "[encoded data removed]",
      "text/plain": [
       "<Figure size 432x288 with 1 Axes>"
      ]
     },
     "metadata": {
      "needs_background": "light"
     },
     "output_type": "display_data"
    }
   ],
   "source": [
    "df.close.plot(grid=True)"
   ]
  },
  {
   "cell_type": "code",
   "execution_count": 4,
   "metadata": {},
   "outputs": [],
   "source": [
    "train_df = df.iloc[-100000:-10000,:].copy()\n",
    "valid_df = df.iloc[-10000:,:].copy()"
   ]
  },
  {
   "cell_type": "code",
   "execution_count": 5,
   "metadata": {},
   "outputs": [
    {
     "data": {
      "text/plain": [
       "<matplotlib.axes._subplots.AxesSubplot at 0x7f51e5e7c8d0>"
      ]
     },
     "execution_count": 5,
     "metadata": {},
     "output_type": "execute_result"
    },
    {
     "data": {
      "image/png": "[encoded data removed]",
      "text/plain": [
       "<Figure size 432x288 with 1 Axes>"
      ]
     },
     "metadata": {
      "needs_background": "light"
     },
     "output_type": "display_data"
    }
   ],
   "source": [
    "train_df.close.plot(grid=True)"
   ]
  },
  {
   "cell_type": "code",
   "execution_count": 6,
   "metadata": {},
   "outputs": [
    {
     "data": {
      "text/plain": [
       "<matplotlib.axes._subplots.AxesSubplot at 0x7f51e5942748>"
      ]
     },
     "execution_count": 6,
     "metadata": {},
     "output_type": "execute_result"
    },
    {
     "data": {
      "image/png": "[encoded data removed]",
      "text/plain": [
       "<Figure size 432x288 with 1 Axes>"
      ]
     },
     "metadata": {
      "needs_background": "light"
     },
     "output_type": "display_data"
    }
   ],
   "source": [
    "valid_df.close.plot(grid=True)"
   ]
  },
  {
   "cell_type": "markdown",
   "metadata": {},
   "source": [
    "## Build Environment"
   ]
  },
  {
   "cell_type": "markdown",
   "metadata": {},
   "source": [
    "Half (or more) of the work to do reinforcement learning in real life is to formulate the environment to fit the objective. Here our somewhat unrealistic yet suitable-for-educational-setting objective is to get an agent that achieves the highest returns in any given 10-hour window. We assume 0.5% commission (you need to pay a small fee to change your position) and 0% risk-free rate (the safest alternative asset you can invest other than Bitcoin has 0% returns).\n",
    "\n",
    "The class `SingleStockEnvironment` below is given as a guideline for an environment that comply with our objective. Some tips for implementation:\n",
    "* Think about what the agent should know to make a decision and include all of those as a state such as technical indicators, previous actions, and so on.\n",
    "* Reward should be aligned with the objective. \n",
    "* **Bonus** Obviously this environment is unrealistic with risk-free rate and only one asset. What can you do to make it more realistic?"
   ]
  },
  {
   "cell_type": "code",
   "execution_count": 9,
   "metadata": {},
   "outputs": [],
   "source": [
    "import numpy as np\n",
    "import pandas as pd\n",
    "\n",
    "class SingleStockEnvironment:\n",
    "    def __init__(self, df, episode_len = 600, short_window = 15, long_window = 60,\n",
    "                state_cols = ['hodl','close_change','short','long']):\n",
    "        '''\n",
    "        Default:\n",
    "        * take input `df` which has at least `timestamp` and `close`\n",
    "        * no commission; risk free rate of 0%\n",
    "        * benchmark with buy and HODL and momentum strategies only\n",
    "        '''\n",
    "        self.episode_len = 600\n",
    "        self.short_window = short_window\n",
    "        self.long_window = long_window\n",
    "        self.master_df = self.process_df(df.copy())\n",
    "        self.state_cols = state_cols\n",
    "        self.reset()\n",
    "        \n",
    "    def reset(self):\n",
    "        '''\n",
    "        Fill in the blank\n",
    "        * set current index as 0\n",
    "        * sample a data frame with episode length `self.episode_len` from `self.master_df`\n",
    "        * return current state as a numpy array\n",
    "        ''' \n",
    "        return self.get_state()\n",
    "    \n",
    "    def step(self, action):\n",
    "        '''\n",
    "        Fill in the black\n",
    "        Default: take either `long` (1) or `short` (-1) as action\n",
    "        Possible improvements: include `do nothing` (0) as liquidating all existing positions, \n",
    "        especially interesting when taking into account commmissions\n",
    "        Input: action (don't forget to record it to `self.df`)\n",
    "        Output: next state, reward, done, info (can be any useful information)\n",
    "        '''\n",
    "        #record action\n",
    "        \n",
    "        \n",
    "        #reward\n",
    "        \n",
    "        \n",
    "        #done\n",
    "\n",
    "        \n",
    "        #info\n",
    "\n",
    "        #increment idx\n",
    "\n",
    "\n",
    "        return self.get_state(),reward,done, info\n",
    "        \n",
    "    def get_state(self):\n",
    "        '''\n",
    "        Fill in the blank\n",
    "        Default: [HODL portfolio (from first period), close price change from last period, \n",
    "        short indicator, long indicator]\n",
    "        Possible: indicators, previous timesteps\n",
    "        '''\n",
    "        return state\n",
    "    \n",
    "    def get_reward(self):\n",
    "        '''\n",
    "        Fill in the blank\n",
    "        Default: use change in portfolio as rewards\n",
    "        Possible: sharpe ratio, sortino ratio, etc.\n",
    "        '''\n",
    "        return reward\n",
    "        \n",
    "    def process_df(self,df):\n",
    "        '''\n",
    "        Fill in the blank\n",
    "        Since asset prices can swing in wide ranges, it is safer to use their changes,\n",
    "        or better the change in portfolio ASSUMING we just buy the asset and hold for the\n",
    "        entire period (known by the Bitcoin community as HODL).\n",
    "        \n",
    "        Calculate \n",
    "        * the percentage of change in `close` compared to last 1 period as `close_change`\n",
    "        * HODL portfolio as `hodl`\n",
    "        '''\n",
    "        \n",
    "        #momentum features\n",
    "        # df['short'] = df.hodl.rolling(window=self.short_window, min_periods=1, center=False).mean()\n",
    "        df['short'] = df.hodl.ewm(span=self.short_window, min_periods=1).mean()\n",
    "        # df['long'] = df.hodl.rolling(window=self.long_window, min_periods=1, center=False).mean()\n",
    "        df['long'] = df.hodl.ewm(span=self.long_window, min_periods=1).mean()\n",
    "        df['mom_signal'] = 0\n",
    "        df.iloc[self.short_window:,df.columns.get_loc('mom_signal')] = np.where(df['short'][self.short_window:] > df['long'][self.short_window:], 1, -1)\n",
    "        \n",
    "        '''\n",
    "        Fill in the blank\n",
    "        Calculate\n",
    "        * the returns we will get IN THE NEXT PERIOD given that we buy at the current price\n",
    "        '''\n",
    "\n",
    "          initialize signal\n",
    "        df['signal'] = 0\n",
    "        return df"
   ]
  },
  {
   "cell_type": "markdown",
   "metadata": {},
   "source": [
    "## Build Memory"
   ]
  },
  {
   "cell_type": "markdown",
   "metadata": {},
   "source": [
    "Create a memory to store transitions and feed to the agent."
   ]
  },
  {
   "cell_type": "code",
   "execution_count": 10,
   "metadata": {},
   "outputs": [],
   "source": [
    "class VanillaMemory:\n",
    "    def __init__(self, memory_size):\n",
    "        self.memory_size = memory_size\n",
    "        self.memory = deque(maxlen=memory_size) \n",
    "    def add(self, *args):\n",
    "        pass\n",
    "    def sample(self, batch_size):\n",
    "        pass\n",
    "    def __len__(self):\n",
    "        return len(self.memory)"
   ]
  },
  {
   "cell_type": "markdown",
   "metadata": {},
   "source": [
    "## Build Nework"
   ]
  },
  {
   "cell_type": "markdown",
   "metadata": {},
   "source": [
    "Create an architecture tempalte for the networks to use to estimate action and/or state values. You can go crazy with convolutions, recurrent networks or transformers."
   ]
  },
  {
   "cell_type": "code",
   "execution_count": 11,
   "metadata": {},
   "outputs": [],
   "source": [
    "class DenseNetwork(models.Model):\n",
    "    def __init__(self, output_size, hidden_sizes, **args):\n",
    "        super(DenseNetwork, self).__init__()\n",
    "        pass\n",
    "    def call(self, x, training=True):\n",
    "        pass"
   ]
  },
  {
   "cell_type": "markdown",
   "metadata": {},
   "source": [
    "## Build Agent"
   ]
  },
  {
   "cell_type": "markdown",
   "metadata": {},
   "source": [
    "Create a DQN agent. Here's a template of vanilla DQN we covered in class you will use as base. You **MUST** use at least 3 of the improvements from the [Rainbow paper](https://arxiv.org/pdf/1710.02298.pdf). In case that the improvements really hurt your performance or you have a customized way of improving the model, you **MUST** show the results to justify."
   ]
  },
  {
   "cell_type": "code",
   "execution_count": 12,
   "metadata": {},
   "outputs": [],
   "source": [
    "class DQNAgent:\n",
    "    def __init__(self, state_size, action_size, replay_memory,\n",
    "        lr=1e-3, bs = 64, clip=1., hidden_sizes = [256,256],\n",
    "        gamma=0.99, tau= 1e-3, update_interval = 5, update_times = 1,\n",
    "        double = False, Architecture=DenseNetwork):\n",
    "        \n",
    "        self.state_size = state_size\n",
    "        self.action_size = action_size\n",
    "        self.hidden_sizes = hidden_sizes\n",
    "        self.lr = lr\n",
    "        self.bs = bs\n",
    "        self.gamma = gamma\n",
    "        self.update_interval = update_interval\n",
    "        self.update_times = update_times\n",
    "        self.tau = tau\n",
    "        self.losses = []\n",
    "        self.clip = clip\n",
    "        self.double = double\n",
    "        self.Architecture = Architecture\n",
    "\n",
    "        #networks\n",
    "        self.network_local = Architecture(output_size=self.action_size, \n",
    "                                          hidden_sizes = self.hidden_sizes, \n",
    "                                          input_size=state_size)\n",
    "        self.network_local.build(input_shape=(None,self.state_size))\n",
    "        self.network_target = Architecture(output_size=self.action_size,\n",
    "                                           hidden_sizes=self.hidden_sizes,\n",
    "                                           input_size=state_size)\n",
    "        self.network_target.build(input_shape=(None,self.state_size))\n",
    "        self.network_target.set_weights(self.network_local.get_weights())\n",
    "        \n",
    "        #optimizer\n",
    "        self.optimizer = tf.keras.optimizers.Adam(learning_rate = self.lr, clipvalue=self.clip)\n",
    "        \n",
    "        # replay memory\n",
    "        self.memory = replay_memory\n",
    "        # count time steps and episodes\n",
    "        self.t_step = 0\n",
    "        self.episodes = 0\n",
    "    \n",
    "    def step(self, state, action, reward, next_state, done):\n",
    "        #add transition to replay memory\n",
    "        self.memory.add(state, action, reward, next_state, done, #for all others\n",
    "            self.episodes, self.t_step) #for nstep memory\n",
    "\n",
    "        #increment episodes if done\n",
    "        if done: \n",
    "            self.t_step = 0\n",
    "            self.episodes+=1\n",
    "        \n",
    "        #update target network\n",
    "        self.soft_update()\n",
    "        #self.hard_update()\n",
    "        \n",
    "        # learn every self.t_step\n",
    "        self.t_step += 1\n",
    "        if self.t_step % self.update_interval == 0:\n",
    "            if len(self.memory) > self.bs:\n",
    "                for _ in range(self.update_times):\n",
    "                    if isinstance(self.memory,PrioritizedMemory):\n",
    "                        transitions = self.memory.sample(self.bs, self.get_beta(self.episodes))\n",
    "                    else:\n",
    "                        transitions = self.memory.sample(self.bs)\n",
    "                    loss = self.learn(transitions)\n",
    "                    self.losses.append(loss)\n",
    "\n",
    "    def act(self, state):\n",
    "        eps = self.get_eps(self.episodes)\n",
    "        action_values = self.network_local(tf.cast(state[None,:],dtype=tf.float32))\n",
    "        #epsilon greedy exploration\n",
    "        if random.random() > eps:\n",
    "            return np.argmax(action_values.numpy())\n",
    "        else:\n",
    "            return random.choice(np.arange(self.action_size))\n",
    "\n",
    "    #we use tf.function decorator for training process to switch from eager to static graph\n",
    "    #NOT compatible with PrioritizedMemory yet\n",
    "    #with decorator\n",
    "    #1.64 ms ± 45.3 µs per loop (mean ± std. dev. of 7 runs, 1000 loops each)\n",
    "    #without decorator\n",
    "    #2.93 ms ± 442 µs per loop (mean ± std. dev. of 7 runs, 100 loops each)\n",
    "#     @tf.function\n",
    "    def learn(self, transitions):\n",
    "        states, actions, rewards, next_states, dones = transitions\n",
    "\n",
    "        if self.double:\n",
    "            max_actions_next = tf.cast(tf.argmax(self.network_local(next_states),1), dtype=tf.int32)\n",
    "            seq = tf.range(0, actions.shape[0])\n",
    "            max_action_idxs = tf.transpose(tf.stack([seq, max_actions_next]))\n",
    "            q_targets_next = tf.gather_nd(self.network_target(next_states), max_action_idxs)[:,tf.newaxis]\n",
    "        else:\n",
    "            q_targets_next = tf.reduce_max(self.network_target(next_states),1)[:,tf.newaxis]\n",
    "\n",
    "        q_targets = rewards + (self.gamma * q_targets_next) * (1 - dones)\n",
    "        q_targets = q_targets[:,0] #flatten q_targets\n",
    "\n",
    "        with tf.GradientTape() as tape:\n",
    "            #get predictions of all actions\n",
    "            preds = self.network_local(states)\n",
    "            \n",
    "            #get index of actions used to calculate q_expected\n",
    "            actions = actions[:,0] #flatten actions\n",
    "            seq = tf.range(0, actions.shape[0])\n",
    "            action_idxs = tf.transpose(tf.stack([seq, actions]))\n",
    "\n",
    "            #get q values only at specific action indice\n",
    "            #tensorflow has this weird way to gather where you need to put index as\n",
    "            #[[0, action_idx1],[1, action_idx2],...,[n, action_idxn]]\n",
    "            q_expected = tf.gather_nd(preds, action_idxs)\n",
    "            \n",
    "            #calculate loss\n",
    "            loss = self.vanilla_loss(q_targets, q_expected)\n",
    "            \n",
    "            #get gradients\n",
    "            gradients = tape.gradient(loss, self.network_local.trainable_weights)\n",
    "        \n",
    "        #apply gradients\n",
    "        self.optimizer.apply_gradients(zip(gradients,self.network_local.trainable_weights))\n",
    "\n",
    "        return loss\n",
    "\n",
    "    def vanilla_loss(self, q_targets, q_expected):\n",
    "        return tf.keras.losses.mse(q_targets, q_expected)\n",
    "    \n",
    "    def hard_update(self):\n",
    "        if self.t_step % 1/self.tau==0:\n",
    "            self.network_target.set_weights(self.network_local.get_weights())\n",
    "\n",
    "    def soft_update(self):\n",
    "        weights_local = np.array(self.network_local.get_weights())\n",
    "        weights_target = np.array(self.network_target.get_weights())\n",
    "        self.network_target.set_weights(self.tau * weights_local + (1 - self.tau) * weights_target)\n",
    "        \n",
    "    def get_eps(self, i, eps_start = 1., eps_end = 0.001, eps_decay = 0.9):\n",
    "        eps = max(eps_start * (eps_decay ** i), eps_end)\n",
    "        return(eps)"
   ]
  },
  {
   "cell_type": "markdown",
   "metadata": {},
   "source": [
    "## Win The Junior League"
   ]
  },
  {
   "cell_type": "markdown",
   "metadata": {},
   "source": [
    "Before spending time to train your agent on actual data, which usually takes a long time, make sure your agent is properly coded by training it on the \"junior\" version of things you want to do. Here let us train it on `CartPole-v1`(also try `MountainCar-v0` and other gym environments if you have time), always increasing or decreasing, and sine-wave pattern of price."
   ]
  },
  {
   "cell_type": "markdown",
   "metadata": {},
   "source": [
    "### `CartPole-v1`"
   ]
  },
  {
   "cell_type": "markdown",
   "metadata": {},
   "source": [
    "Your model might not converge as fast as simpler models on `CartPole-v1` especially if you are trying to incorporate more complex features, but still if your model does not converge at all, that is a sign of a problem. More importantlym, getting your model to approach the solve score in a stable manner is also a sign of a robust agent. For this reason, we will use an easier solve score of 100.\n",
    "\n",
    "**To-do**: Use your own agent to (soft) solve `CartPole-v1` and make sure everything ~~might be~~ is alright."
   ]
  },
  {
   "cell_type": "code",
   "execution_count": 247,
   "metadata": {},
   "outputs": [],
   "source": [
    "import gym\n",
    "env = gym.make('CartPole-v1')"
   ]
  },
  {
   "cell_type": "code",
   "execution_count": 248,
   "metadata": {},
   "outputs": [],
   "source": [
    "# from solutions.memories import VanillaMemory\n",
    "# from solutions.agents import DQNAgent\n",
    "\n",
    "mem = VanillaMemory(int(1e5)) \n",
    "a = DQNAgent(state_size = env.reset().shape[0], \n",
    "             action_size = env.action_space.n, replay_memory = mem,\n",
    "             hidden_sizes=[64,64], double=True)"
   ]
  },
  {
   "cell_type": "code",
   "execution_count": 249,
   "metadata": {},
   "outputs": [
    {
     "data": {
      "application/vnd.jupyter.widget-view+json": {
       "model_id": "d10a3ca41acd4546b70775cfc77a0c55",
       "version_major": 2,
       "version_minor": 0
      },
      "text/plain": [
       "HBox(children=(IntProgress(value=0, max=10000), HTML(value='')))"
      ]
     },
     "metadata": {},
     "output_type": "display_data"
    },
    {
     "name": "stdout",
     "output_type": "stream",
     "text": [
      "Episdoe 99 Moving Average: 11.656565656565656\n",
      "Episdoe 199 Moving Average: 9.5\n",
      "Episdoe 299 Moving Average: 9.35\n",
      "Episdoe 399 Moving Average: 9.35\n",
      "Episdoe 499 Moving Average: 9.3\n",
      "Episdoe 599 Moving Average: 9.52\n",
      "Episdoe 699 Moving Average: 56.13\n",
      "Solved at Play 729 with moving average of 101.04\n"
     ]
    }
   ],
   "source": [
    "scores = []\n",
    "scores_deque = deque(maxlen=100) \n",
    "moving_scores = []\n",
    "solved_score=100\n",
    "\n",
    "for i in tqdm_notebook(range(10000)):\n",
    "    if (i+1) % 100==0: print(f'Episdoe {i} Moving Average: {np.mean(scores_deque)}')\n",
    "    state = env.reset()\n",
    "    score = 0\n",
    "    actions = []\n",
    "    while True:\n",
    "        #select action\n",
    "        action = a.act(state)  \n",
    "        actions.append(action)\n",
    "\n",
    "        #env step\n",
    "        next_state, reward, done, info = env.step(action)   \n",
    "        \n",
    "        #agent step\n",
    "        a.step(state,action,reward,next_state,done)\n",
    "        \n",
    "        #collect score\n",
    "        score += reward\n",
    "        \n",
    "        #go to next state\n",
    "        state = next_state   \n",
    "        \n",
    "        #break if done\n",
    "        if done: break\n",
    "            \n",
    "    #book keeping\n",
    "    scores.append(score)\n",
    "    scores_deque.append(score)\n",
    "    moving_scores.append(np.mean(scores_deque))\n",
    "\n",
    "    if moving_scores[-1] > solved_score: \n",
    "        print(f'Solved at Play {i} with moving average of {moving_scores[-1]}')\n",
    "        break"
   ]
  },
  {
   "cell_type": "code",
   "execution_count": 250,
   "metadata": {},
   "outputs": [
    {
     "data": {
      "text/plain": [
       "[<matplotlib.lines.Line2D at 0x7fb604365c88>]"
      ]
     },
     "execution_count": 250,
     "metadata": {},
     "output_type": "execute_result"
    },
    {
     "data": {
      "image/png": "[encoded data removed]",
      "text/plain": [
       "<Figure size 432x288 with 1 Axes>"
      ]
     },
     "metadata": {
      "needs_background": "light"
     },
     "output_type": "display_data"
    }
   ],
   "source": [
    "plt.plot(scores)\n",
    "plt.plot(moving_scores)"
   ]
  },
  {
   "cell_type": "code",
   "execution_count": 251,
   "metadata": {},
   "outputs": [
    {
     "data": {
      "text/plain": [
       "[<matplotlib.lines.Line2D at 0x7fb5d02b7c18>]"
      ]
     },
     "execution_count": 251,
     "metadata": {},
     "output_type": "execute_result"
    },
    {
     "data": {
      "image/png": "[encoded data removed]",
      "text/plain": [
       "<Figure size 432x288 with 1 Axes>"
      ]
     },
     "metadata": {
      "needs_background": "light"
     },
     "output_type": "display_data"
    }
   ],
   "source": [
    "plt.plot(a.losses)"
   ]
  },
  {
   "cell_type": "markdown",
   "metadata": {},
   "source": [
    "### Always Increasing"
   ]
  },
  {
   "cell_type": "markdown",
   "metadata": {},
   "source": [
    "Another step from gym environments is to have the agent solve a stupidly simple version of our environment. Here we have it trade a hypothetical asset where the price always goes up.\n",
    "\n",
    "**To-do**: Make sure your agent always go long when trading this always increasing asset."
   ]
  },
  {
   "cell_type": "code",
   "execution_count": 58,
   "metadata": {},
   "outputs": [
    {
     "data": {
      "text/plain": [
       "<matplotlib.axes._subplots.AxesSubplot at 0x7f517c0c1ef0>"
      ]
     },
     "execution_count": 58,
     "metadata": {},
     "output_type": "execute_result"
    },
    {
     "data": {
      "image/png": "[encoded data removed]",
      "text/plain": [
       "<Figure size 432x288 with 1 Axes>"
      ]
     },
     "metadata": {
      "needs_background": "light"
     },
     "output_type": "display_data"
    }
   ],
   "source": [
    "df = pd.DataFrame({'timestamp':range(1,1001), 'close': [1.001**i for i in range(1,1001)]})\n",
    "df.close.plot(grid=True)"
   ]
  },
  {
   "cell_type": "code",
   "execution_count": 61,
   "metadata": {},
   "outputs": [],
   "source": [
    "# from solutions.environments import SingleStockEnvironment\n",
    "# from solutions.memories import VanillaMemory\n",
    "# from solutions.agents import DQNAgent\n",
    "\n",
    "\n",
    "env = SingleStockEnvironment(df)\n",
    "mem = VanillaMemory(int(1e5)) \n",
    "a = DQNAgent(state_size = env.reset().shape[0], \n",
    "             action_size = 3, replay_memory = mem,\n",
    "             hidden_sizes=[64,64], double=True)"
   ]
  },
  {
   "cell_type": "code",
   "execution_count": 62,
   "metadata": {},
   "outputs": [
    {
     "data": {
      "application/vnd.jupyter.widget-view+json": {
       "model_id": "9916837bcd3e4e1c8ebb02ab55d8eda9",
       "version_major": 2,
       "version_minor": 0
      },
      "text/plain": [
       "HBox(children=(IntProgress(value=0, max=5), HTML(value='')))"
      ]
     },
     "metadata": {},
     "output_type": "display_data"
    }
   ],
   "source": [
    "#train agent\n",
    "infos = []\n",
    "for i in tqdm_notebook(range(5)):\n",
    "    state = env.reset()\n",
    "    while True:\n",
    "        action_idx = a.act(state)\n",
    "        next_state, reward, done, info = env.step(action_idx)\n",
    "        a.step(state,action_idx,reward,next_state,done)\n",
    "        state = next_state\n",
    "        if done: \n",
    "            infos.append(info)\n",
    "            break"
   ]
  },
  {
   "cell_type": "code",
   "execution_count": 63,
   "metadata": {},
   "outputs": [],
   "source": [
    "#test agent\n",
    "a.episodes=100 #switch from epsilon greedy to just greedy\n",
    "state = env.reset()\n",
    "while True:\n",
    "    action_idx = a.act(state)\n",
    "    next_state, reward, done, info = env.step(action_idx)\n",
    "    a.step(state,action_idx,reward,next_state,done)\n",
    "    state = next_state\n",
    "    if done: \n",
    "        infos.append(info)\n",
    "        break"
   ]
  },
  {
   "cell_type": "code",
   "execution_count": 64,
   "metadata": {},
   "outputs": [
    {
     "data": {
      "text/plain": [
       "{'idx': 598,\n",
       " 'reward': 1.818843,\n",
       " 'model returns': 1.818842982400065,\n",
       " 'HODL returns': 1.81793492299797,\n",
       " 'SHORTL returns': 0.5497458494385616,\n",
       " 'mom returns': 1.81793492299797}"
      ]
     },
     "execution_count": 64,
     "metadata": {},
     "output_type": "execute_result"
    }
   ],
   "source": [
    "info"
   ]
  },
  {
   "cell_type": "code",
   "execution_count": 65,
   "metadata": {},
   "outputs": [
    {
     "data": {
      "image/png": "[encoded data removed]",
      "text/plain": [
       "<Figure size 640x480 with 1 Axes>"
      ]
     },
     "metadata": {
      "needs_background": "light"
     },
     "output_type": "display_data"
    },
    {
     "data": {
      "text/plain": [
       "<ggplot: (-9223363287607881426)>"
      ]
     },
     "execution_count": 65,
     "metadata": {},
     "output_type": "execute_result"
    }
   ],
   "source": [
    "df_m = env.df[['timestamp','hodl','short','long','signal','mom_signal']]\\\n",
    "    .reset_index(drop=True).head(500)\n",
    "g = (ggplot(df_m,aes(x='timestamp',y='hodl'))+\n",
    "     geom_line()+ theme_minimal() +\n",
    "#      geom_line(df_m, aes(x='timestamp',y='short'),color='orange') +\n",
    "#      geom_line(df_m, aes(x='timestamp',y='long'),color='purple') +\n",
    "     geom_point(df_m,aes(x='timestamp',y='hodl',color='factor(signal)'),size=0.5) +\n",
    "     scale_color_manual(['green'])\n",
    "    )\n",
    "g"
   ]
  },
  {
   "cell_type": "code",
   "execution_count": 66,
   "metadata": {},
   "outputs": [
    {
     "data": {
      "text/plain": [
       "(<tf.Tensor: id=3373031, shape=(1, 3), dtype=float32, numpy=array([[3.8356183, 5.85256  , 7.551691 ]], dtype=float32)>,\n",
       " 2)"
      ]
     },
     "execution_count": 66,
     "metadata": {},
     "output_type": "execute_result"
    }
   ],
   "source": [
    "#see if action values are stable\n",
    "import tensorflow as tf\n",
    "state = env.get_state()\n",
    "a.network_local(tf.cast(state[None,:],dtype=tf.float32)), a.act(state)"
   ]
  },
  {
   "cell_type": "code",
   "execution_count": 67,
   "metadata": {},
   "outputs": [
    {
     "data": {
      "text/plain": [
       "[<matplotlib.lines.Line2D at 0x7f518c092c88>]"
      ]
     },
     "execution_count": 67,
     "metadata": {},
     "output_type": "execute_result"
    },
    {
     "data": {
      "image/png": "[encoded data removed]",
      "text/plain": [
       "<Figure size 432x288 with 1 Axes>"
      ]
     },
     "metadata": {
      "needs_background": "light"
     },
     "output_type": "display_data"
    }
   ],
   "source": [
    "plt.plot(a.losses)"
   ]
  },
  {
   "cell_type": "markdown",
   "metadata": {},
   "source": [
    "### Always Decreasing"
   ]
  },
  {
   "cell_type": "markdown",
   "metadata": {},
   "source": [
    "**To-do**: Make sure your agent always go short when trading an always decreasing asset."
   ]
  },
  {
   "cell_type": "code",
   "execution_count": 68,
   "metadata": {},
   "outputs": [
    {
     "data": {
      "text/plain": [
       "<matplotlib.axes._subplots.AxesSubplot at 0x7f518c3879e8>"
      ]
     },
     "execution_count": 68,
     "metadata": {},
     "output_type": "execute_result"
    },
    {
     "data": {
      "image/png": "[encoded data removed]",
      "text/plain": [
       "<Figure size 432x288 with 1 Axes>"
      ]
     },
     "metadata": {
      "needs_background": "light"
     },
     "output_type": "display_data"
    }
   ],
   "source": [
    "df = pd.DataFrame({'timestamp':range(1,1001), 'close': [0.999**i for i in range(1,1001)]})\n",
    "df.close.plot(grid=True)"
   ]
  },
  {
   "cell_type": "code",
   "execution_count": 69,
   "metadata": {},
   "outputs": [],
   "source": [
    "# from solutions.memories import VanillaMemory\n",
    "# from solutions.agents import DQNAgent\n",
    "\n",
    "\n",
    "env = SingleStockEnvironment(df)\n",
    "mem = VanillaMemory(int(1e5)) \n",
    "a = DQNAgent(state_size = env.reset().shape[0], \n",
    "             action_size = 3, replay_memory = mem,\n",
    "             hidden_sizes=[64,64], double=True)"
   ]
  },
  {
   "cell_type": "code",
   "execution_count": 70,
   "metadata": {},
   "outputs": [
    {
     "data": {
      "application/vnd.jupyter.widget-view+json": {
       "model_id": "8cc7b59be5f54b028c1a1c184ef4952c",
       "version_major": 2,
       "version_minor": 0
      },
      "text/plain": [
       "HBox(children=(IntProgress(value=0, max=5), HTML(value='')))"
      ]
     },
     "metadata": {},
     "output_type": "display_data"
    }
   ],
   "source": [
    "#train agent\n",
    "infos = []\n",
    "for i in tqdm_notebook(range(5)):\n",
    "    state = env.reset()\n",
    "    while True:\n",
    "        action_idx = a.act(state)\n",
    "        next_state, reward, done, info = env.step(action_idx)\n",
    "        a.step(state,action_idx,reward,next_state,done)\n",
    "        state = next_state\n",
    "        if done: \n",
    "            infos.append(info)\n",
    "            break"
   ]
  },
  {
   "cell_type": "code",
   "execution_count": 71,
   "metadata": {},
   "outputs": [],
   "source": [
    "#test agent\n",
    "a.episodes=100 #switch from epsilon greedy to just greedy\n",
    "state = env.reset()\n",
    "while True:\n",
    "    action_idx = a.act(state)\n",
    "    next_state, reward, done, info = env.step(action_idx)\n",
    "    a.step(state,action_idx,reward,next_state,done)\n",
    "    state = next_state\n",
    "    if done: \n",
    "        infos.append(info)\n",
    "        break"
   ]
  },
  {
   "cell_type": "code",
   "execution_count": 77,
   "metadata": {},
   "outputs": [
    {
     "data": {
      "text/plain": [
       "{'idx': 598,\n",
       " 'reward': 1.810682,\n",
       " 'model returns': 1.8106817785781977,\n",
       " 'HODL returns': 0.5497458494385251,\n",
       " 'SHORTL returns': 1.8179349229980195,\n",
       " 'mom returns': 1.8179349229980195}"
      ]
     },
     "execution_count": 77,
     "metadata": {},
     "output_type": "execute_result"
    }
   ],
   "source": [
    "info"
   ]
  },
  {
   "cell_type": "code",
   "execution_count": 72,
   "metadata": {},
   "outputs": [
    {
     "data": {
      "image/png": "[encoded data removed]",
      "text/plain": [
       "<Figure size 640x480 with 1 Axes>"
      ]
     },
     "metadata": {
      "needs_background": "light"
     },
     "output_type": "display_data"
    },
    {
     "data": {
      "text/plain": [
       "<ggplot: (-9223363287607778132)>"
      ]
     },
     "execution_count": 72,
     "metadata": {},
     "output_type": "execute_result"
    }
   ],
   "source": [
    "df_m = env.df[['timestamp','hodl','short','long','signal','mom_signal']]\\\n",
    "    .reset_index(drop=True).head(500)\n",
    "g = (ggplot(df_m,aes(x='timestamp',y='hodl'))+\n",
    "     geom_line()+ theme_minimal() +\n",
    "#      geom_line(df_m, aes(x='timestamp',y='short'),color='orange') +\n",
    "#      geom_line(df_m, aes(x='timestamp',y='long'),color='purple') +\n",
    "     geom_point(df_m,aes(x='timestamp',y='hodl',color='factor(signal)'),size=0.5) +\n",
    "     scale_color_manual(['red'])\n",
    "    )\n",
    "g"
   ]
  },
  {
   "cell_type": "code",
   "execution_count": 73,
   "metadata": {},
   "outputs": [
    {
     "data": {
      "text/plain": [
       "(<tf.Tensor: id=3595274, shape=(1, 3), dtype=float32, numpy=array([[1.8685184, 1.2429239, 0.7972729]], dtype=float32)>,\n",
       " 0)"
      ]
     },
     "execution_count": 73,
     "metadata": {},
     "output_type": "execute_result"
    }
   ],
   "source": [
    "#see if action values are stable\n",
    "import tensorflow as tf\n",
    "state = env.get_state()\n",
    "a.network_local(tf.cast(state[None,:],dtype=tf.float32)), a.act(state)"
   ]
  },
  {
   "cell_type": "code",
   "execution_count": 74,
   "metadata": {},
   "outputs": [
    {
     "data": {
      "text/plain": [
       "[<matplotlib.lines.Line2D at 0x7f517c3278d0>]"
      ]
     },
     "execution_count": 74,
     "metadata": {},
     "output_type": "execute_result"
    },
    {
     "data": {
      "image/png": "[encoded data removed]",
      "text/plain": [
       "<Figure size 432x288 with 1 Axes>"
      ]
     },
     "metadata": {
      "needs_background": "light"
     },
     "output_type": "display_data"
    }
   ],
   "source": [
    "plt.plot(a.losses)"
   ]
  },
  {
   "cell_type": "markdown",
   "metadata": {},
   "source": [
    "### Sine Wave"
   ]
  },
  {
   "cell_type": "markdown",
   "metadata": {},
   "source": [
    "In a real trading setup, the model also needs to learn to distinguish between a peak and a trough, aka buy low and sell high. \n",
    "\n",
    "**To-do**: Make sure your model buys low and sells high."
   ]
  },
  {
   "cell_type": "code",
   "execution_count": 78,
   "metadata": {},
   "outputs": [
    {
     "data": {
      "text/plain": [
       "<matplotlib.axes._subplots.AxesSubplot at 0x7f517c2ba7f0>"
      ]
     },
     "execution_count": 78,
     "metadata": {},
     "output_type": "execute_result"
    },
    {
     "data": {
      "image/png": "[encoded data removed]",
      "text/plain": [
       "<Figure size 432x288 with 1 Axes>"
      ]
     },
     "metadata": {
      "needs_background": "light"
     },
     "output_type": "display_data"
    }
   ],
   "source": [
    "df = pd.DataFrame({'timestamp':range(1,1001), 'close': 1.1+np.sin(np.arange(1,1001)/50)})\n",
    "df.close.plot(grid=True)"
   ]
  },
  {
   "cell_type": "code",
   "execution_count": 79,
   "metadata": {},
   "outputs": [],
   "source": [
    "# from solutions.memories import VanillaMemory\n",
    "# from solutions.agents import DQNAgent\n",
    "\n",
    "\n",
    "env = SingleStockEnvironment(df)\n",
    "mem = VanillaMemory(int(1e5)) \n",
    "a = DQNAgent(state_size = env.reset().shape[0], \n",
    "             action_size = 3, replay_memory = mem,\n",
    "             hidden_sizes=[64,64], double=True)"
   ]
  },
  {
   "cell_type": "code",
   "execution_count": 80,
   "metadata": {},
   "outputs": [
    {
     "data": {
      "application/vnd.jupyter.widget-view+json": {
       "model_id": "a503cea0892e4eb8b715f82573737a39",
       "version_major": 2,
       "version_minor": 0
      },
      "text/plain": [
       "HBox(children=(IntProgress(value=0, max=20), HTML(value='')))"
      ]
     },
     "metadata": {},
     "output_type": "display_data"
    }
   ],
   "source": [
    "#train agent\n",
    "infos = []\n",
    "for i in tqdm_notebook(range(20)):\n",
    "    state = env.reset()\n",
    "    while True:\n",
    "        action_idx = a.act(state)\n",
    "        next_state, reward, done, info = env.step(action_idx)\n",
    "        a.step(state,action_idx,reward,next_state,done)\n",
    "        state = next_state\n",
    "        if done: \n",
    "            infos.append(info)\n",
    "            break"
   ]
  },
  {
   "cell_type": "code",
   "execution_count": 86,
   "metadata": {},
   "outputs": [],
   "source": [
    "#test agent\n",
    "a.episodes=100 #switch from epsilon greedy to just greedy\n",
    "state = env.reset()\n",
    "rewards = []\n",
    "while True:\n",
    "    action_idx = a.act(state)\n",
    "    next_state, reward, done, info = env.step(action_idx)\n",
    "    rewards.append(reward)\n",
    "    state = next_state\n",
    "    if done: \n",
    "        infos.append(info)\n",
    "        break"
   ]
  },
  {
   "cell_type": "code",
   "execution_count": 87,
   "metadata": {},
   "outputs": [
    {
     "data": {
      "text/plain": [
       "{'idx': 598,\n",
       " 'reward': 40980.628217,\n",
       " 'model returns': 6208.483308907762,\n",
       " 'HODL returns': 1.3516078572828094,\n",
       " 'SHORTL returns': 0.5217395797504631,\n",
       " 'mom returns': 3473.370652207496}"
      ]
     },
     "execution_count": 87,
     "metadata": {},
     "output_type": "execute_result"
    }
   ],
   "source": [
    "info"
   ]
  },
  {
   "cell_type": "markdown",
   "metadata": {},
   "source": [
    "If things are done right, your model will be able to buy low and sell high."
   ]
  },
  {
   "cell_type": "code",
   "execution_count": 88,
   "metadata": {},
   "outputs": [
    {
     "data": {
      "image/png": "[encoded data removed]",
      "text/plain": [
       "<Figure size 640x480 with 1 Axes>"
      ]
     },
     "metadata": {
      "needs_background": "light"
     },
     "output_type": "display_data"
    },
    {
     "data": {
      "text/plain": [
       "<ggplot: (8749247101900)>"
      ]
     },
     "execution_count": 88,
     "metadata": {},
     "output_type": "execute_result"
    }
   ],
   "source": [
    "df_m = env.df[['timestamp','hodl','short','long','signal','mom_signal']].head(599)\\\n",
    "    .reset_index(drop=True)\n",
    "df_m['rewards'] = rewards\n",
    "g = (ggplot(df_m,aes(x='timestamp',y='hodl'))+\n",
    "     geom_line()+ theme_minimal() +\n",
    "#      geom_line(df_m, aes(x='timestamp',y='short'),color='orange') +\n",
    "#      geom_line(df_m, aes(x='timestamp',y='long'),color='purple') +\n",
    "     geom_point(df_m,aes(x='timestamp',y='hodl',color='factor(signal)'),size=0.5) +\n",
    "     scale_color_manual(['red','green'])\n",
    "    )\n",
    "g"
   ]
  },
  {
   "cell_type": "markdown",
   "metadata": {},
   "source": [
    "Notice that a properly trained agent performs better than a momentum strategy, which is one of the best strategies for a sine-wave pattern."
   ]
  },
  {
   "cell_type": "code",
   "execution_count": 89,
   "metadata": {},
   "outputs": [
    {
     "data": {
      "image/png": "[encoded data removed]",
      "text/plain": [
       "<Figure size 640x480 with 1 Axes>"
      ]
     },
     "metadata": {
      "needs_background": "light"
     },
     "output_type": "display_data"
    },
    {
     "data": {
      "text/plain": [
       "<ggplot: (-9223363287641117040)>"
      ]
     },
     "execution_count": 89,
     "metadata": {},
     "output_type": "execute_result"
    }
   ],
   "source": [
    "df_m = env.df[['timestamp','hodl','short','long','signal','mom_signal']].head(599)\\\n",
    "    .reset_index(drop=True)\n",
    "df_m['rewards'] = rewards\n",
    "g = (ggplot(df_m,aes(x='timestamp',y='hodl'))+\n",
    "     geom_line()+ theme_minimal() +\n",
    "#      geom_line(df_m, aes(x='timestamp',y='short'),color='orange') +\n",
    "#      geom_line(df_m, aes(x='timestamp',y='long'),color='purple') +\n",
    "     geom_point(df_m,aes(x='timestamp',y='hodl',color='factor(mom_signal)'),size=0.5) +\n",
    "     scale_color_manual(['red','green'])\n",
    "    )\n",
    "g"
   ]
  },
  {
   "cell_type": "code",
   "execution_count": 90,
   "metadata": {},
   "outputs": [
    {
     "data": {
      "text/plain": [
       "(<tf.Tensor: id=4358413, shape=(1, 3), dtype=float32, numpy=array([[5440.412 , 3669.8916, 3205.3245]], dtype=float32)>,\n",
       " 0)"
      ]
     },
     "execution_count": 90,
     "metadata": {},
     "output_type": "execute_result"
    }
   ],
   "source": [
    "#see if action values are stable\n",
    "import tensorflow as tf\n",
    "state = env.get_state()\n",
    "a.network_local(tf.cast(state[None,:],dtype=tf.float32)), a.act(state)"
   ]
  },
  {
   "cell_type": "markdown",
   "metadata": {},
   "source": [
    "## The Real Deal $$$"
   ]
  },
  {
   "cell_type": "markdown",
   "metadata": {},
   "source": [
    "The final boss of this exercise is to make an agent that can trade reasonably well, **at least beating all-buy and all-sell**, when averaged across 100 episodes of the validation set. You can use whatever you want as long as it is a DQN variant and you coded them up from scratch using Tensorflow 2.\n",
    "\n",
    "**To-do**: List the improvements you used and the reasons you chose them. If you decide to NOT use at least 3 improvements, demonstrate why; for instance, if it led to worse performance, plot those performances.\n",
    "\n",
    "1. Improvement 1 because ...\n",
    "2. Improvement 2 because ...\n",
    "3. Improvement 3 because ..."
   ]
  },
  {
   "cell_type": "code",
   "execution_count": 53,
   "metadata": {},
   "outputs": [
    {
     "data": {
      "text/html": [
       "<div>\n",
       "<style scoped>\n",
       "    .dataframe tbody tr th:only-of-type {\n",
       "        vertical-align: middle;\n",
       "    }\n",
       "\n",
       "    .dataframe tbody tr th {\n",
       "        vertical-align: top;\n",
       "    }\n",
       "\n",
       "    .dataframe thead th {\n",
       "        text-align: right;\n",
       "    }\n",
       "</style>\n",
       "<table border=\"1\" class=\"dataframe\">\n",
       "  <thead>\n",
       "    <tr style=\"text-align: right;\">\n",
       "      <th></th>\n",
       "      <th>timestamp</th>\n",
       "      <th>open</th>\n",
       "      <th>high</th>\n",
       "      <th>low</th>\n",
       "      <th>close</th>\n",
       "      <th>volume_btc</th>\n",
       "      <th>volume_currency</th>\n",
       "      <th>weighted_close</th>\n",
       "    </tr>\n",
       "  </thead>\n",
       "  <tbody>\n",
       "    <tr>\n",
       "      <td>3305857</td>\n",
       "      <td>1524057660</td>\n",
       "      <td>8099.63</td>\n",
       "      <td>8100.69</td>\n",
       "      <td>8093.29</td>\n",
       "      <td>8100.69</td>\n",
       "      <td>0.018115</td>\n",
       "      <td>146.735204</td>\n",
       "      <td>8100.074791</td>\n",
       "    </tr>\n",
       "    <tr>\n",
       "      <td>3305858</td>\n",
       "      <td>1524057720</td>\n",
       "      <td>8095.97</td>\n",
       "      <td>8104.60</td>\n",
       "      <td>8095.97</td>\n",
       "      <td>8100.40</td>\n",
       "      <td>1.186197</td>\n",
       "      <td>9607.355091</td>\n",
       "      <td>8099.291955</td>\n",
       "    </tr>\n",
       "    <tr>\n",
       "      <td>3305859</td>\n",
       "      <td>1524057780</td>\n",
       "      <td>8100.47</td>\n",
       "      <td>8100.47</td>\n",
       "      <td>8090.00</td>\n",
       "      <td>8090.00</td>\n",
       "      <td>4.622190</td>\n",
       "      <td>37403.471958</td>\n",
       "      <td>8092.153815</td>\n",
       "    </tr>\n",
       "    <tr>\n",
       "      <td>3305860</td>\n",
       "      <td>1524057840</td>\n",
       "      <td>8091.02</td>\n",
       "      <td>8092.08</td>\n",
       "      <td>8080.01</td>\n",
       "      <td>8083.53</td>\n",
       "      <td>7.214283</td>\n",
       "      <td>58350.249106</td>\n",
       "      <td>8088.156239</td>\n",
       "    </tr>\n",
       "    <tr>\n",
       "      <td>3305861</td>\n",
       "      <td>1524057900</td>\n",
       "      <td>8083.53</td>\n",
       "      <td>8095.40</td>\n",
       "      <td>8083.53</td>\n",
       "      <td>8095.40</td>\n",
       "      <td>1.733634</td>\n",
       "      <td>14026.366835</td>\n",
       "      <td>8090.729462</td>\n",
       "    </tr>\n",
       "  </tbody>\n",
       "</table>\n",
       "</div>"
      ],
      "text/plain": [
       "          timestamp     open     high      low    close  volume_btc  \\\n",
       "3305857  1524057660  8099.63  8100.69  8093.29  8100.69    0.018115   \n",
       "3305858  1524057720  8095.97  8104.60  8095.97  8100.40    1.186197   \n",
       "3305859  1524057780  8100.47  8100.47  8090.00  8090.00    4.622190   \n",
       "3305860  1524057840  8091.02  8092.08  8080.01  8083.53    7.214283   \n",
       "3305861  1524057900  8083.53  8095.40  8083.53  8095.40    1.733634   \n",
       "\n",
       "         volume_currency  weighted_close  \n",
       "3305857       146.735204     8100.074791  \n",
       "3305858      9607.355091     8099.291955  \n",
       "3305859     37403.471958     8092.153815  \n",
       "3305860     58350.249106     8088.156239  \n",
       "3305861     14026.366835     8090.729462  "
      ]
     },
     "execution_count": 53,
     "metadata": {},
     "output_type": "execute_result"
    }
   ],
   "source": [
    "train_df.head()"
   ]
  },
  {
   "cell_type": "code",
   "execution_count": 54,
   "metadata": {},
   "outputs": [],
   "source": [
    "# from solutions.memories import VanillaMemory\n",
    "# from solutions.agents import DQNAgent\n",
    "# from solutions.environments import SingleStockEnvironment\n",
    "\n",
    "\n",
    "env = SingleStockEnvironment(train_df)\n",
    "mem = VanillaMemory(int(1e5)) \n",
    "a = DQNAgent(state_size = env.reset().shape[0], \n",
    "             action_size = 3, replay_memory = mem,\n",
    "             hidden_sizes=[64,64], double=True)"
   ]
  },
  {
   "cell_type": "code",
   "execution_count": null,
   "metadata": {},
   "outputs": [],
   "source": [
    "#train agent\n",
    "infos = []\n",
    "for i in tqdm_notebook(range(100)):\n",
    "    state = env.reset()\n",
    "    while True:\n",
    "        action_idx = a.act(state)\n",
    "        next_state, reward, done, info = env.step(action_idx)\n",
    "        a.step(state,action_idx,reward,next_state,done)\n",
    "        state = next_state\n",
    "        if done: \n",
    "            infos.append(info)\n",
    "            break"
   ]
  },
  {
   "cell_type": "markdown",
   "metadata": {},
   "source": [
    "Make sure to test on the validation dataset. We determine the results by the average over 100 episodes."
   ]
  },
  {
   "cell_type": "code",
   "execution_count": 91,
   "metadata": {},
   "outputs": [
    {
     "data": {
      "text/html": [
       "<div>\n",
       "<style scoped>\n",
       "    .dataframe tbody tr th:only-of-type {\n",
       "        vertical-align: middle;\n",
       "    }\n",
       "\n",
       "    .dataframe tbody tr th {\n",
       "        vertical-align: top;\n",
       "    }\n",
       "\n",
       "    .dataframe thead th {\n",
       "        text-align: right;\n",
       "    }\n",
       "</style>\n",
       "<table border=\"1\" class=\"dataframe\">\n",
       "  <thead>\n",
       "    <tr style=\"text-align: right;\">\n",
       "      <th></th>\n",
       "      <th>timestamp</th>\n",
       "      <th>open</th>\n",
       "      <th>high</th>\n",
       "      <th>low</th>\n",
       "      <th>close</th>\n",
       "      <th>volume_btc</th>\n",
       "      <th>volume_currency</th>\n",
       "      <th>weighted_close</th>\n",
       "    </tr>\n",
       "  </thead>\n",
       "  <tbody>\n",
       "    <tr>\n",
       "      <td>3395857</td>\n",
       "      <td>1529457660</td>\n",
       "      <td>6569.60</td>\n",
       "      <td>6581.12</td>\n",
       "      <td>6564.37</td>\n",
       "      <td>6575.92</td>\n",
       "      <td>9.111169</td>\n",
       "      <td>59897.888688</td>\n",
       "      <td>6574.116413</td>\n",
       "    </tr>\n",
       "    <tr>\n",
       "      <td>3395858</td>\n",
       "      <td>1529457720</td>\n",
       "      <td>6580.87</td>\n",
       "      <td>6600.01</td>\n",
       "      <td>6580.87</td>\n",
       "      <td>6590.52</td>\n",
       "      <td>12.468805</td>\n",
       "      <td>82243.689980</td>\n",
       "      <td>6595.955802</td>\n",
       "    </tr>\n",
       "    <tr>\n",
       "      <td>3395859</td>\n",
       "      <td>1529457780</td>\n",
       "      <td>6588.03</td>\n",
       "      <td>6588.36</td>\n",
       "      <td>6586.00</td>\n",
       "      <td>6586.14</td>\n",
       "      <td>2.234153</td>\n",
       "      <td>14716.059052</td>\n",
       "      <td>6586.862135</td>\n",
       "    </tr>\n",
       "    <tr>\n",
       "      <td>3395860</td>\n",
       "      <td>1529457840</td>\n",
       "      <td>6588.36</td>\n",
       "      <td>6597.19</td>\n",
       "      <td>6588.36</td>\n",
       "      <td>6592.50</td>\n",
       "      <td>0.358099</td>\n",
       "      <td>2361.038285</td>\n",
       "      <td>6593.255734</td>\n",
       "    </tr>\n",
       "    <tr>\n",
       "      <td>3395861</td>\n",
       "      <td>1529457900</td>\n",
       "      <td>6594.50</td>\n",
       "      <td>6594.50</td>\n",
       "      <td>6590.30</td>\n",
       "      <td>6590.30</td>\n",
       "      <td>1.018478</td>\n",
       "      <td>6714.895155</td>\n",
       "      <td>6593.070961</td>\n",
       "    </tr>\n",
       "  </tbody>\n",
       "</table>\n",
       "</div>"
      ],
      "text/plain": [
       "          timestamp     open     high      low    close  volume_btc  \\\n",
       "3395857  1529457660  6569.60  6581.12  6564.37  6575.92    9.111169   \n",
       "3395858  1529457720  6580.87  6600.01  6580.87  6590.52   12.468805   \n",
       "3395859  1529457780  6588.03  6588.36  6586.00  6586.14    2.234153   \n",
       "3395860  1529457840  6588.36  6597.19  6588.36  6592.50    0.358099   \n",
       "3395861  1529457900  6594.50  6594.50  6590.30  6590.30    1.018478   \n",
       "\n",
       "         volume_currency  weighted_close  \n",
       "3395857     59897.888688     6574.116413  \n",
       "3395858     82243.689980     6595.955802  \n",
       "3395859     14716.059052     6586.862135  \n",
       "3395860      2361.038285     6593.255734  \n",
       "3395861      6714.895155     6593.070961  "
      ]
     },
     "execution_count": 91,
     "metadata": {},
     "output_type": "execute_result"
    }
   ],
   "source": [
    "valid_df.head()"
   ]
  },
  {
   "cell_type": "code",
   "execution_count": null,
   "metadata": {},
   "outputs": [],
   "source": [
    "#test agent\n",
    "env = SingleStockEnvironment(valid_df)\n",
    "state = env.reset()\n",
    "infos = []\n",
    "for i in range(100):\n",
    "    while True:\n",
    "        action_idx = a.act(state)\n",
    "        next_state, reward, done, info = env.step(action_idx)\n",
    "        state = next_state\n",
    "        if done: \n",
    "            infos.append(info)\n",
    "            break"
   ]
  },
  {
   "cell_type": "code",
   "execution_count": null,
   "metadata": {},
   "outputs": [],
   "source": [
    "pd.DataFrame(infos).mean()"
   ]
  },
  {
   "cell_type": "code",
   "execution_count": null,
   "metadata": {},
   "outputs": [],
   "source": [
    "df_m = env.df[['timestamp','hodl','short','long','signal','mom_signal']]\\\n",
    "    .reset_index(drop=True).head(500)\n",
    "g = (ggplot(df_m,aes(x='timestamp',y='hodl'))+\n",
    "     geom_line()+ theme_minimal() +\n",
    "     geom_line(df_m, aes(x='timestamp',y='short'),color='orange') +\n",
    "     geom_line(df_m, aes(x='timestamp',y='long'),color='purple') +\n",
    "     geom_point(df_m,aes(x='timestamp',y='hodl',color='factor(signal)'),size=0.5) +\n",
    "     scale_color_manual(['red','green'])\n",
    "    )\n",
    "g"
   ]
  },
  {
   "cell_type": "code",
   "execution_count": 93,
   "metadata": {},
   "outputs": [],
   "source": [
    "env.df.signal.value_counts()"
   ]
  },
  {
   "cell_type": "code",
   "execution_count": 92,
   "metadata": {},
   "outputs": [],
   "source": [
    "plt.plot(a.losses)"
   ]
  },
  {
   "cell_type": "markdown",
   "metadata": {},
   "source": [
    "## Closing Remarks"
   ]
  },
  {
   "cell_type": "markdown",
   "metadata": {},
   "source": [
    "Now that you have completed the exercises the hard way, here are some resources you can use for a quick-and-dirty start when working on a reinforcement learning problem, especially in trading:\n",
    "\n",
    "* [stable-baselines](https://github.com/hill-a/stable-baselines): a set of improved implementations of reinforcement learning algorithms based on OpenAI Baselines; implemented with Tensorflow 1 with a good documentation\n",
    "* [Spinning Up](https://spinningup.openai.com/en/latest/user/introduction.html): a tutorial by OpenAI; implemented with Tensorflow 1\n",
    "* [TensorTrade](https://github.com/notadamking/tensortrade): a full-option reinforcement learning for trading in real life\n",
    "* [Trading-Gym](https://github.com/mymusise/Trading-Gym): a simple implementation of single-asset trading"
   ]
  },
  {
   "cell_type": "code",
   "execution_count": null,
   "metadata": {},
   "outputs": [],
   "source": []
  }
 ],
 "metadata": {
  "kernelspec": {
   "display_name": "Python 3",
   "language": "python",
   "name": "python3"
  },
  "language_info": {
   "codemirror_mode": {
    "name": "ipython",
    "version": 3
   },
   "file_extension": ".py",
   "mimetype": "text/x-python",
   "name": "python",
   "nbconvert_exporter": "python",
   "pygments_lexer": "ipython3",
   "version": "3.6.8"
  }
 },
 "nbformat": 4,
 "nbformat_minor": 2
}
