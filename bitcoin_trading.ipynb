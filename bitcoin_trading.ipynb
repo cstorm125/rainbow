{
 "cells": [
  {
   "cell_type": "markdown",
   "metadata": {},
   "source": [
    "# Practical RL - [Catch The Rainbow](https://www.youtube.com/watch?v=p3VgV31vmUE)"
   ]
  },
  {
   "cell_type": "markdown",
   "metadata": {
    "heading_collapsed": true
   },
   "source": [
    "## Imports"
   ]
  },
  {
   "cell_type": "code",
   "execution_count": 1,
   "metadata": {
    "hidden": true
   },
   "outputs": [],
   "source": [
    "# #uncomment if you're running from colab\n",
    "# %tensorflow_version 2.x\n",
    "\n",
    "%load_ext autoreload\n",
    "%autoreload 2\n",
    "%matplotlib inline\n",
    "\n",
    "from collections import deque, Counter\n",
    "import matplotlib.pyplot as plt\n",
    "import random\n",
    "import gym\n",
    "from datetime import datetime\n",
    "import pandas as pd\n",
    "import numpy as np\n",
    "import tensorflow as tf\n",
    "from tensorflow.keras import models, layers, optimizers\n",
    "from tqdm import tqdm_notebook"
   ]
  },
  {
   "cell_type": "markdown",
   "metadata": {
    "heading_collapsed": true
   },
   "source": [
    "## RL in The News"
   ]
  },
  {
   "cell_type": "markdown",
   "metadata": {
    "hidden": true
   },
   "source": [
    "Deep reinforcement learning agents have displayed some amazing feats in the media:\n",
    "* Beating professional [Go players](https://deepmind.com/research/alphago/) and, to some extent, [DotA players](https://youtu.be/UZHTNBMAfAA?t=2m40s).\n",
    "* Achieve (super) human-level scores in [Atari Games](https://www.cs.toronto.edu/~vmnih/docs/dqn.pdf)\n",
    "* Masterfully play [Flappy Bird](https://www.youtube.com/watch?v=hri7ir5qhj0)\n",
    "\n",
    "![rl-news.png](https://i.postimg.cc/VvRkL4Fm/rl-news.png)"
   ]
  },
  {
   "cell_type": "markdown",
   "metadata": {
    "hidden": true
   },
   "source": [
    "What these tasks usually have in common is that they:\n",
    "1. Have easy access to training data, usually via simulation and self-supervision\n",
    "2. Do not require memory (episodic); your current best Go move only depends on the current board state\n",
    "3. Are game-like: \n",
    "    * deterministic; a given state-action pair will always yield the same result\n",
    "    * fully observable; the agent has all relevant information about its task\n",
    "    * discrete; fixed timesteps such as a turn for Go and a frame for Flappy Bird\n",
    "    * known; the rules such as legal actions and rewards are known by the agent\n",
    "    * static; the rules do not change\n",
    "    * 1-2 agents; either the agent is optimizing for something alone or competing/cooperating with another agent/human\n",
    "\n",
    "Read more on environment classification from [Russel and Norvig (2009)](https://en.wikibooks.org/wiki/Artificial_Intelligence/AI_Agents_and_their_Environments).\n",
    "\n",
    "Image from Andrey Kurenkov's [Reinforcement learning’s foundational flaw](https://thegradient.pub/why-rl-is-flawed/), highly recommended.\n",
    "<img src=\"https://i.postimg.cc/XJfCWnRB/venn.png\" \n",
    "width =500/>"
   ]
  },
  {
   "cell_type": "markdown",
   "metadata": {
    "hidden": true
   },
   "source": [
    "The issue with this is that these are relatively \"easy\" **parameter search problems** and thus might have more efficient and even more effective results with much simpler methods (Kurenkov, 2018):\n",
    "1. [Simple random search provides a competitive approach to reinforcement learning](https://arxiv.org/abs/1803.07055)\n",
    "2. [Deep Neuroevolution: Genetic Algorithms Are a Competitive Alternative for Training Deep Neural Networks for Reinforcement Learning](https://arxiv.org/abs/1712.06567)\n",
    "3. [Evolution Strategies as a Scalable Alternative to Reinforcement Learning](https://arxiv.org/abs/1703.03864)\n",
    "4. [Towards Generalization and Simplicity in Continuous Control](https://arxiv.org/abs/1703.02660)"
   ]
  },
  {
   "cell_type": "markdown",
   "metadata": {
    "heading_collapsed": true
   },
   "source": [
    "## RL in Real Life"
   ]
  },
  {
   "cell_type": "markdown",
   "metadata": {
    "hidden": true
   },
   "source": [
    "In real-world use cases, deep reinforcement learning (here we do not consider multi-armed bandits, the world's most popular method for ads optimization and cold-start recommendation) has solved the following problems:\n",
    "1. Neural architecture search for better algorithms aka [AutoML](https://cloud.google.com/automl/)※\n",
    "2. [Continuous control](https://arxiv.org/abs/1509.02971) in robotics※\n",
    "3. Reduce data center power usage and [save 40% of electricity bill](https://deepmind.com/blog/deepmind-ai-reduces-google-data-centre-cooling-bill-40/)\n",
    "4. [Ads bidding](http://wnzhang.net/papers/rlb.pdf), outperforming supervised linear models in research\n",
    "5. Push notification by Facebook's [Horizon](https://research.fb.com/publications/horizon-facebooks-open-source-applied-reinforcement-learning-platform/), outperforming supervised models by incorporating long-term outlooks of sending a push notificiation.\n",
    "6. [Winning Texas Hold em' Poker](https://science.sciencemag.org/content/365/6456/885.full); not exactly industry use case but it shows how an RL agent can be successful in a partially observable, multi-agent environment\n",
    "\n",
    "Some use cases that people seem to be working on but no publicised results:\n",
    "1. [Algorithmic trading](http://www.wildml.com/2018/02/introduction-to-learning-to-trade-with-reinforcement-learning/)\n",
    "2. [Traffic control](https://flow.berkeley.edu/)\n",
    "3. [Cold-start recommendation engine](https://arxiv.org/abs/1801.05532)\n",
    "\n",
    "※ Problems that are closest to AlphaGo and most Atari\n",
    "\n",
    "![rl-real.png](https://i.postimg.cc/DyKfbtS5/rl-real.png)"
   ]
  },
  {
   "cell_type": "markdown",
   "metadata": {
    "hidden": true
   },
   "source": [
    "A lot of real-world use cases for reinforcement learning happen with the following motivations:\n",
    "1. Multi-agent and/or dynamic environment; Google even cited the reason for using reinforcement learning to control temperature at data centers as `The system cannot adapt quickly to internal or external changes (like the weather). This is because we cannot come up with rules and heuristics for every operating scenario.`\n",
    "2. Optimizing for long-term goals; Facebook said in regard to using reinforcement learning for push notifications that `Historically, we have used supervised learning models for predicting click through rate (CTR) and likelihood that the notification leads to meaningful interactions...This however, didn’t capture the long term or incremental value of sending notifications. There can be some signals that appear long after the decision to send or drop is madeor can’t be attributed directly to the notification.`\n",
    "3. Human-out-of-the-loop training scheme; instead of optimizing for a human-generated metric then rely on human discretion for rule-based policy development, an RL agent can directly optimize for the rewards (which stills need to be engineered by humans). See [Introduction to Learning to Trade with Reinforcement Learning](http://www.wildml.com/2018/02/introduction-to-learning-to-trade-with-reinforcement-learning/) by Denny Britz.\n",
    "![denny.png](https://i.postimg.cc/G3vbPdTV/denny.png)\n",
    "\n",
    "Obviously, this breaks a little with the news-worthy use cases, especially with the game-like charactersitic, but they still requires a lot of training data and are memoryless or can be simplified as memory less.\n"
   ]
  },
  {
   "cell_type": "markdown",
   "metadata": {
    "heading_collapsed": true
   },
   "source": [
    "## Gameplan"
   ]
  },
  {
   "cell_type": "markdown",
   "metadata": {
    "hidden": true
   },
   "source": [
    "In order to create a successful (read \"better than supervised learning\") reinforcement learning project, you might consider the following steps:\n",
    "1. Does your use case need reinforcement learning? Can it be formulated as a reinforcement learning problem?\n",
    "2. Set up an environment; define state, action, reward, timestep, and what it means to solve your environment.\n",
    "3. Establish baselines with \"unintelligent\" agents like random, single-action, or rule-based agents.\n",
    "4. Create your training scheme; define memories (if necessary), networks and agents to use.\n",
    "5. Test and debug your agent; monitor losses, weights, agent's actions and scores.\n",
    "    * Test your agent and make sure it can learn with toy environment such as `CartPole-v1`\n",
    "    * Play a junior version of your environment with your agent; for instance, for single-stock trading, test if an agent knows how to trade a\n",
    "    stock that always goes up or down.\n",
    "    * Play the real version until solved\n",
    "    * Go back to 4. and create a training scheme with better memories, networks, or agents\n"
   ]
  },
  {
   "cell_type": "markdown",
   "metadata": {
    "hidden": true
   },
   "source": [
    "Here are a few use cases translated into reinforcement learning schemes: \n",
    "* Walking robots\n",
    "    * Environment: sidewalks\n",
    "    * Agent: a robot\n",
    "    * States: positions, velocities and accelerations of body parts\n",
    "    * Actions: move arms, legs, various joints in the body\n",
    "    * Rewards: fall or not\n",
    "    * Episodes: seconds, miliseconds until fall\n",
    "* Ads bidding\n",
    "    * Environment: Google Adwords\n",
    "    * Agent: an ecommerce company\n",
    "    * States: campaign impressions, clicks, purchases\n",
    "    * Actions: adjust bid prices and budget\n",
    "    * Rewards: conversion rates, cost of new customer acquisitions\n",
    "    * Episodes: daily or hourly until campaign ends\n",
    "* Retail stock trading\n",
    "    * Environment: the stock market\n",
    "    * Agent: a retail investor who cannot influence market prices\n",
    "    * States: market prices, volumes, and other indicators\n",
    "    * Actions: buy, hold, sell\n",
    "    * Rewards: returns, returns adjusted by volatility, and so on\n",
    "    * Episodes: daily, hourly, every second until we are extremely rich or broke\n",
    "    \n",
    "**Concept Assigment** Come up with one or more scenarios that you think could be framed as a reinforcement learning problem and list their elements like the example above. Some candidates are:\n",
    "* [AlphaGo](https://deepmind.com/research/alphago/)\n",
    "* [OpenAI Five Dota Bots](https://openai.com/five/)\n",
    "* [Pancake-flipping Robots](https://www.youtube.com/watch?v=W_gxLKSsSIE&list=PL5nBAYUyJTrM48dViibyi68urttMlUv7e)"
   ]
  },
  {
   "cell_type": "markdown",
   "metadata": {
    "heading_collapsed": true
   },
   "source": [
    "## Environment"
   ]
  },
  {
   "cell_type": "markdown",
   "metadata": {
    "hidden": true
   },
   "source": [
    "You will create your own environment for a real-world use case as a homework assignment. In order to focus on agent improvement in class, we will be using the most basic environment of OpenAi gym `CartPole-v1`.\n",
    "\n",
    "The pole-balancing task is described as fololows:\n",
    "> A pole is attached by an un-actuated joint to a cart, which moves along a frictionless track. The system is controlled by applying a force of +1 or -1 to the cart. The pendulum starts upright, and the goal is to prevent it from falling over. A reward of +1 is provided for every timestep that the pole remains upright. The episode ends when the pole is more than 15 degrees from vertical, or the cart moves more than 2.4 units from the center."
   ]
  },
  {
   "cell_type": "code",
   "execution_count": 2,
   "metadata": {
    "hidden": true
   },
   "outputs": [
    {
     "name": "stdout",
     "output_type": "stream",
     "text": [
      "\u001b[33mWARN: gym.spaces.Box autodetected dtype as <class 'numpy.float32'>. Please provide explicit dtype.\u001b[0m\n"
     ]
    },
    {
     "name": "stderr",
     "output_type": "stream",
     "text": [
      "/home/charin/anaconda3/envs/drlnd/lib/python3.6/site-packages/gym/envs/registration.py:14: PkgResourcesDeprecationWarning: Parameters to load are deprecated.  Call .resolve and .require separately.\n",
      "  result = entry_point.load(False)\n"
     ]
    }
   ],
   "source": [
    "env = gym.make('CartPole-v1')"
   ]
  },
  {
   "cell_type": "markdown",
   "metadata": {
    "hidden": true
   },
   "source": [
    "**Coding Assignment** Find out what are the following elements\n",
    "\n",
    "* States:\n",
    "* Actions:\n",
    "* Rewards: "
   ]
  },
  {
   "cell_type": "code",
   "execution_count": 3,
   "metadata": {
    "hidden": true
   },
   "outputs": [
    {
     "data": {
      "text/plain": [
       "(array([0.00972713, 0.00222178, 0.03003696, 0.01984282]),\n",
       " Box(4,),\n",
       " Discrete(2),\n",
       " (-inf, inf))"
      ]
     },
     "execution_count": 3,
     "metadata": {},
     "output_type": "execute_result"
    }
   ],
   "source": [
    "'''\n",
    "Fill in the code\n",
    "'''\n",
    "env.reset(), env.observation_space, env.action_space, env.reward_range, "
   ]
  },
  {
   "cell_type": "markdown",
   "metadata": {
    "hidden": true
   },
   "source": [
    "**Conceptual Assignment** \n",
    "* Is the reward suitable for our goal of balancing the pole as long as possible? \n",
    "* What is the suitable discount factor we should use for this task?"
   ]
  },
  {
   "cell_type": "markdown",
   "metadata": {
    "heading_collapsed": true
   },
   "source": [
    "## Unintelligent Benchmarks"
   ]
  },
  {
   "cell_type": "markdown",
   "metadata": {
    "hidden": true
   },
   "source": [
    "Make sure we are not spending time and effort to solve a problem that can be solved with a rule-based model, or worse random play."
   ]
  },
  {
   "cell_type": "markdown",
   "metadata": {
    "hidden": true
   },
   "source": [
    "### Random Play"
   ]
  },
  {
   "cell_type": "code",
   "execution_count": 4,
   "metadata": {
    "hidden": true
   },
   "outputs": [
    {
     "name": "stdout",
     "output_type": "stream",
     "text": [
      "\u001b[33mWARN: gym.spaces.Box autodetected dtype as <class 'numpy.float32'>. Please provide explicit dtype.\u001b[0m\n"
     ]
    },
    {
     "data": {
      "application/vnd.jupyter.widget-view+json": {
       "model_id": "4dbba5d45d3b4dad87f472d99828c913",
       "version_major": 2,
       "version_minor": 0
      },
      "text/plain": [
       "HBox(children=(IntProgress(value=0, max=1000), HTML(value='')))"
      ]
     },
     "metadata": {},
     "output_type": "display_data"
    },
    {
     "name": "stdout",
     "output_type": "stream",
     "text": [
      "Episdoe 99 Moving Average: 21.707070707070706\n",
      "Episdoe 199 Moving Average: 22.7\n",
      "Episdoe 299 Moving Average: 22.22\n",
      "Episdoe 399 Moving Average: 21.74\n",
      "Episdoe 499 Moving Average: 23.91\n",
      "Episdoe 599 Moving Average: 21.21\n",
      "Episdoe 699 Moving Average: 22.14\n",
      "Episdoe 799 Moving Average: 22.51\n",
      "Episdoe 899 Moving Average: 22.57\n",
      "Episdoe 999 Moving Average: 20.74\n",
      "\n"
     ]
    }
   ],
   "source": [
    "'''\n",
    "Fill in the codes\n",
    "* Play 1,000 episodes randomly\n",
    "* Plot the scores and 100-episode moving averages for all timesteps.\n",
    "* Get distribution of all state variables\n",
    "'''\n",
    "env = gym.make('CartPole-v1')\n",
    "\n",
    "scores = []\n",
    "scores_deque = deque(maxlen=100) \n",
    "moving_scores = []\n",
    "states=[]\n",
    "\n",
    "for i in tqdm_notebook(range(1000)):\n",
    "    if (i+1) % 100==0: print(f'Episdoe {i} Moving Average: {np.mean(scores_deque)}')\n",
    "    #one episode\n",
    "    state = env.reset()\n",
    "    score = 0\n",
    "    while True:\n",
    "        states.append(state)\n",
    "        action = np.random.choice(range(env.action_space.n))\n",
    "        state, reward, done, info = env.step(action)\n",
    "        score+=reward\n",
    "        if done: break\n",
    "    #book keeping\n",
    "    scores.append(score)\n",
    "    scores_deque.append(score)\n",
    "    moving_scores.append(np.mean(scores_deque))"
   ]
  },
  {
   "cell_type": "code",
   "execution_count": 5,
   "metadata": {
    "hidden": true
   },
   "outputs": [
    {
     "data": {
      "text/plain": [
       "[<matplotlib.lines.Line2D at 0x7f66c07b0668>]"
      ]
     },
     "execution_count": 5,
     "metadata": {},
     "output_type": "execute_result"
    },
    {
     "data": {
      "image/png": "[encoded data removed]",
      "text/plain": [
       "<Figure size 432x288 with 1 Axes>"
      ]
     },
     "metadata": {
      "needs_background": "light"
     },
     "output_type": "display_data"
    }
   ],
   "source": [
    "plt.plot(scores)\n",
    "plt.plot(moving_scores)"
   ]
  },
  {
   "cell_type": "code",
   "execution_count": 6,
   "metadata": {
    "hidden": true
   },
   "outputs": [
    {
     "data": {
      "text/html": [
       "<div>\n",
       "<style scoped>\n",
       "    .dataframe tbody tr th:only-of-type {\n",
       "        vertical-align: middle;\n",
       "    }\n",
       "\n",
       "    .dataframe tbody tr th {\n",
       "        vertical-align: top;\n",
       "    }\n",
       "\n",
       "    .dataframe thead th {\n",
       "        text-align: right;\n",
       "    }\n",
       "</style>\n",
       "<table border=\"1\" class=\"dataframe\">\n",
       "  <thead>\n",
       "    <tr style=\"text-align: right;\">\n",
       "      <th></th>\n",
       "      <th>0</th>\n",
       "      <th>1</th>\n",
       "      <th>2</th>\n",
       "      <th>3</th>\n",
       "    </tr>\n",
       "  </thead>\n",
       "  <tbody>\n",
       "    <tr>\n",
       "      <th>count</th>\n",
       "      <td>22149.000000</td>\n",
       "      <td>22149.000000</td>\n",
       "      <td>22149.000000</td>\n",
       "      <td>22149.000000</td>\n",
       "    </tr>\n",
       "    <tr>\n",
       "      <th>mean</th>\n",
       "      <td>0.007007</td>\n",
       "      <td>0.013170</td>\n",
       "      <td>0.002109</td>\n",
       "      <td>0.003979</td>\n",
       "    </tr>\n",
       "    <tr>\n",
       "      <th>std</th>\n",
       "      <td>0.114448</td>\n",
       "      <td>0.541922</td>\n",
       "      <td>0.092214</td>\n",
       "      <td>0.787439</td>\n",
       "    </tr>\n",
       "    <tr>\n",
       "      <th>min</th>\n",
       "      <td>-0.823471</td>\n",
       "      <td>-2.488693</td>\n",
       "      <td>-0.209420</td>\n",
       "      <td>-2.885022</td>\n",
       "    </tr>\n",
       "    <tr>\n",
       "      <th>25%</th>\n",
       "      <td>-0.040050</td>\n",
       "      <td>-0.353977</td>\n",
       "      <td>-0.050219</td>\n",
       "      <td>-0.514620</td>\n",
       "    </tr>\n",
       "    <tr>\n",
       "      <th>50%</th>\n",
       "      <td>0.001558</td>\n",
       "      <td>0.004689</td>\n",
       "      <td>0.001493</td>\n",
       "      <td>0.004316</td>\n",
       "    </tr>\n",
       "    <tr>\n",
       "      <th>75%</th>\n",
       "      <td>0.043626</td>\n",
       "      <td>0.367320</td>\n",
       "      <td>0.056469</td>\n",
       "      <td>0.528946</td>\n",
       "    </tr>\n",
       "    <tr>\n",
       "      <th>max</th>\n",
       "      <td>2.201445</td>\n",
       "      <td>2.953536</td>\n",
       "      <td>0.209294</td>\n",
       "      <td>2.718612</td>\n",
       "    </tr>\n",
       "  </tbody>\n",
       "</table>\n",
       "</div>"
      ],
      "text/plain": [
       "                  0             1             2             3\n",
       "count  22149.000000  22149.000000  22149.000000  22149.000000\n",
       "mean       0.007007      0.013170      0.002109      0.003979\n",
       "std        0.114448      0.541922      0.092214      0.787439\n",
       "min       -0.823471     -2.488693     -0.209420     -2.885022\n",
       "25%       -0.040050     -0.353977     -0.050219     -0.514620\n",
       "50%        0.001558      0.004689      0.001493      0.004316\n",
       "75%        0.043626      0.367320      0.056469      0.528946\n",
       "max        2.201445      2.953536      0.209294      2.718612"
      ]
     },
     "execution_count": 6,
     "metadata": {},
     "output_type": "execute_result"
    }
   ],
   "source": [
    "state_df = pd.DataFrame(states)\n",
    "state_df.describe()"
   ]
  },
  {
   "cell_type": "code",
   "execution_count": 7,
   "metadata": {
    "hidden": true
   },
   "outputs": [
    {
     "data": {
      "text/plain": [
       "<matplotlib.axes._subplots.AxesSubplot at 0x7f66c0622cc0>"
      ]
     },
     "execution_count": 7,
     "metadata": {},
     "output_type": "execute_result"
    },
    {
     "data": {
      "image/png": "[encoded data removed]",
      "text/plain": [
       "<Figure size 432x288 with 1 Axes>"
      ]
     },
     "metadata": {
      "needs_background": "light"
     },
     "output_type": "display_data"
    }
   ],
   "source": [
    "state_df[0].hist()"
   ]
  },
  {
   "cell_type": "code",
   "execution_count": 8,
   "metadata": {
    "hidden": true
   },
   "outputs": [
    {
     "data": {
      "text/plain": [
       "<matplotlib.axes._subplots.AxesSubplot at 0x7f66c05a9b38>"
      ]
     },
     "execution_count": 8,
     "metadata": {},
     "output_type": "execute_result"
    },
    {
     "data": {
      "image/png": "[encoded data removed]",
      "text/plain": [
       "<Figure size 432x288 with 1 Axes>"
      ]
     },
     "metadata": {
      "needs_background": "light"
     },
     "output_type": "display_data"
    }
   ],
   "source": [
    "state_df[1].hist()"
   ]
  },
  {
   "cell_type": "code",
   "execution_count": 9,
   "metadata": {
    "hidden": true
   },
   "outputs": [
    {
     "data": {
      "text/plain": [
       "<matplotlib.axes._subplots.AxesSubplot at 0x7f66c04f19b0>"
      ]
     },
     "execution_count": 9,
     "metadata": {},
     "output_type": "execute_result"
    },
    {
     "data": {
      "image/png": "[encoded data removed]",
      "text/plain": [
       "<Figure size 432x288 with 1 Axes>"
      ]
     },
     "metadata": {
      "needs_background": "light"
     },
     "output_type": "display_data"
    }
   ],
   "source": [
    "state_df[2].hist()"
   ]
  },
  {
   "cell_type": "code",
   "execution_count": 10,
   "metadata": {
    "hidden": true
   },
   "outputs": [
    {
     "data": {
      "text/plain": [
       "<matplotlib.axes._subplots.AxesSubplot at 0x7f66c04944a8>"
      ]
     },
     "execution_count": 10,
     "metadata": {},
     "output_type": "execute_result"
    },
    {
     "data": {
      "image/png": "[encoded data removed]",
      "text/plain": [
       "<Figure size 432x288 with 1 Axes>"
      ]
     },
     "metadata": {
      "needs_background": "light"
     },
     "output_type": "display_data"
    }
   ],
   "source": [
    "state_df[3].hist()"
   ]
  },
  {
   "cell_type": "markdown",
   "metadata": {
    "hidden": true
   },
   "source": [
    "### Rule-based"
   ]
  },
  {
   "cell_type": "code",
   "execution_count": 11,
   "metadata": {
    "hidden": true
   },
   "outputs": [
    {
     "name": "stdout",
     "output_type": "stream",
     "text": [
      "\u001b[33mWARN: gym.spaces.Box autodetected dtype as <class 'numpy.float32'>. Please provide explicit dtype.\u001b[0m\n"
     ]
    },
    {
     "data": {
      "application/vnd.jupyter.widget-view+json": {
       "model_id": "312c72613c1348d48d0d3fd1c2cdc079",
       "version_major": 2,
       "version_minor": 0
      },
      "text/plain": [
       "HBox(children=(IntProgress(value=0, max=1000), HTML(value='')))"
      ]
     },
     "metadata": {},
     "output_type": "display_data"
    },
    {
     "name": "stdout",
     "output_type": "stream",
     "text": [
      "Episdoe 99 Moving Average: 40.84848484848485\n",
      "Episdoe 199 Moving Average: 41.7\n",
      "Episdoe 299 Moving Average: 42.33\n",
      "Episdoe 399 Moving Average: 42.4\n",
      "Episdoe 499 Moving Average: 43.25\n",
      "Episdoe 599 Moving Average: 44.2\n",
      "Episdoe 699 Moving Average: 40.47\n",
      "Episdoe 799 Moving Average: 42.46\n",
      "Episdoe 899 Moving Average: 42.61\n",
      "Episdoe 999 Moving Average: 42.99\n",
      "\n"
     ]
    }
   ],
   "source": [
    "'''\n",
    "Fill in the code\n",
    "* Play 1,000 episodes with a rule you devised\n",
    "* Plot the scores and 100-episode moving averages for all timesteps.\n",
    "    Observation: \n",
    "        Type: Box(4)\n",
    "        Num\tObservation                 Min         Max\n",
    "        0\tCart Position             -4.8            4.8\n",
    "        1\tCart Velocity             -Inf            Inf\n",
    "        2\tPole Angle                 -24 deg        24 deg\n",
    "        3\tPole Velocity At Tip      -Inf            Inf\n",
    "'''\n",
    "env = gym.make('CartPole-v1')\n",
    "\n",
    "scores = []\n",
    "scores_deque = deque(maxlen=100) \n",
    "moving_scores = []\n",
    "\n",
    "for i in tqdm_notebook(range(1000)):\n",
    "    if (i+1) % 100==0: print(f'Episdoe {i} Moving Average: {np.mean(scores_deque)}')\n",
    "    #one episode\n",
    "    state = env.reset()\n",
    "    score = 0\n",
    "    while True:\n",
    "        #using only pole angle\n",
    "        if state[2] < 0:\n",
    "            action = 0\n",
    "        else:\n",
    "            action=1\n",
    "        state, reward, done, info = env.step(action)\n",
    "        score+=reward\n",
    "        if done: break\n",
    "    #book keeping\n",
    "    scores.append(score)\n",
    "    scores_deque.append(score)\n",
    "    moving_scores.append(np.mean(scores_deque))"
   ]
  },
  {
   "cell_type": "code",
   "execution_count": 12,
   "metadata": {
    "hidden": true
   },
   "outputs": [
    {
     "data": {
      "text/plain": [
       "[<matplotlib.lines.Line2D at 0x7f66c0314550>]"
      ]
     },
     "execution_count": 12,
     "metadata": {},
     "output_type": "execute_result"
    },
    {
     "data": {
      "image/png": "[encoded data removed]",
      "text/plain": [
       "<Figure size 432x288 with 1 Axes>"
      ]
     },
     "metadata": {
      "needs_background": "light"
     },
     "output_type": "display_data"
    }
   ],
   "source": [
    "plt.plot(scores)\n",
    "plt.plot(moving_scores)"
   ]
  },
  {
   "cell_type": "markdown",
   "metadata": {
    "heading_collapsed": true
   },
   "source": [
    "## From Research to Implementation"
   ]
  },
  {
   "cell_type": "markdown",
   "metadata": {
    "hidden": true
   },
   "source": [
    "The main objective of this course is for you to be able to implement reinforcement learning algorithms from research papers on your own. In this class, you will implement six out of seven improvements of Q-learning proposed in the [Rainbow paper](https://arxiv.org/pdf/1710.02298.pdf). One of the most important tricks in doing this is to\n",
    "1. Understand the motivation behind improvements; most papers propose a few improvements to current algorithms. Finding out what problems they are trying to solve will help us implement (or not implement them if they are not useful for our problems) them more easily.\n",
    "2. Find and convert the pseudo-codes into a code snippet of your language of choice; Greek letters and equations can be daunting but excecuting them in codes can be deceptively easy."
   ]
  },
  {
   "cell_type": "markdown",
   "metadata": {
    "heading_collapsed": true
   },
   "source": [
    "## Vanilla DQN"
   ]
  },
  {
   "cell_type": "markdown",
   "metadata": {
    "hidden": true
   },
   "source": [
    "DeepMind's [Playing Atari with Deep Reinforcement Learning](https://www.cs.toronto.edu/~vmnih/docs/dqn.pdf) introduces the framework of deep Q-learning which arguably started the recent interests in reinforcement learning as a whole. The framework is based on Q-learning, which is as follows:\n",
    "![Q_learning](https://github.com/Datatouille/rl-workshop/raw/master/img/qlearning.png)\n",
    "Deep Q-learning differs from a function-approximated Q-learning in that it proposed two improvements.\n",
    "![DQN](https://github.com/Datatouille/rl-workshop/raw/master/img/dqn.png)\n",
    "**Conceptual Assignment** Skim the paper and find out what these improvements and their motivations are.\n",
    "1. Replay memory: this is done so that past transitions can be reused and also in a manner that avoid correlations between samples.\n",
    "2. Local and target networks: this is done so that the agent is not approximating the Q-function (local network) based on its own estimate but rather an earlier version of it (target network)"
   ]
  },
  {
   "cell_type": "markdown",
   "metadata": {
    "hidden": true
   },
   "source": [
    "### Replay Memory"
   ]
  },
  {
   "cell_type": "markdown",
   "metadata": {
    "hidden": true
   },
   "source": [
    "**Coding Assignment** Create a replay memory class with methods\n",
    "* `add(self,*args)` to add a `(state,action,reward,next_state,done)` tuple or dictionary to the memory.\n",
    "* `sample(self,batch_size)` to sample a batch of `(state,action,reward,next_state,done)` where each element is a tensor of `(batch_size,dimension)` dimensions."
   ]
  },
  {
   "cell_type": "code",
   "execution_count": 13,
   "metadata": {
    "hidden": true
   },
   "outputs": [],
   "source": [
    "'''\n",
    "Fill in the codes\n",
    "'''\n",
    "class VanillaMemory:\n",
    "    def __init__(self, memory_size):\n",
    "        self.memory_size = memory_size\n",
    "        self.memory = deque(maxlen=memory_size) \n",
    "    def add(self, *args):\n",
    "        t = {'state':args[0],'action':args[1],'reward':args[2],'next_state':args[3],'done':args[4]}\n",
    "        self.memory.append(t)\n",
    "    def sample(self, batch_size):\n",
    "        ts = random.sample(self.memory, batch_size)\n",
    "        states = tf.cast(np.vstack([t['state'] for t in ts]),dtype=tf.float32)\n",
    "        actions = tf.cast(np.vstack([t['action'] for t in ts]),dtype=tf.int32)\n",
    "        rewards = tf.cast(np.vstack([t['reward'] for t in ts]),dtype=tf.float32)\n",
    "        next_states = tf.cast(np.vstack([t['next_state'] for t in ts]),dtype=tf.float32)\n",
    "        dones = tf.cast(np.vstack([t['done'] for t in ts]),dtype=tf.float32)\n",
    "        return(states,actions,rewards,next_states,dones)\n",
    "    def __len__(self):\n",
    "        return len(self.memory)"
   ]
  },
  {
   "cell_type": "code",
   "execution_count": 14,
   "metadata": {
    "hidden": true
   },
   "outputs": [
    {
     "name": "stdout",
     "output_type": "stream",
     "text": [
      "\u001b[33mWARN: gym.spaces.Box autodetected dtype as <class 'numpy.float32'>. Please provide explicit dtype.\u001b[0m\n"
     ]
    },
    {
     "data": {
      "application/vnd.jupyter.widget-view+json": {
       "model_id": "1235a3168a68441093eb7f2cb089b365",
       "version_major": 2,
       "version_minor": 0
      },
      "text/plain": [
       "HBox(children=(IntProgress(value=0, max=1000), HTML(value='')))"
      ]
     },
     "metadata": {},
     "output_type": "display_data"
    },
    {
     "name": "stdout",
     "output_type": "stream",
     "text": [
      "\n"
     ]
    }
   ],
   "source": [
    "mem = VanillaMemory(100)\n",
    "env = gym.make('CartPole-v1')\n",
    "\n",
    "scores = []\n",
    "scores_deque = deque(maxlen=100) \n",
    "moving_scores = []\n",
    "states=[]\n",
    "\n",
    "for i in tqdm_notebook(range(1000)):\n",
    "    #one episode\n",
    "    state = env.reset()\n",
    "    score = 0\n",
    "    while True:\n",
    "        states.append(state)\n",
    "        action = np.random.choice(range(env.action_space.n))\n",
    "        next_state, reward, done, info = env.step(action)\n",
    "        mem.add(state,action,reward,next_state,done)\n",
    "        score+=reward\n",
    "        state = next_state\n",
    "        if done: break\n",
    "    #book keeping\n",
    "    scores.append(score)\n",
    "    scores_deque.append(score)\n",
    "    moving_scores.append(np.mean(scores_deque))"
   ]
  },
  {
   "cell_type": "code",
   "execution_count": 15,
   "metadata": {
    "hidden": true
   },
   "outputs": [
    {
     "data": {
      "text/plain": [
       "(100, (<tf.Tensor: id=1, shape=(3, 4), dtype=float32, numpy=\n",
       "  array([[-0.02183087,  0.01245179, -0.02250284,  0.04014244],\n",
       "         [-0.00628558, -0.4152354 ,  0.02869763,  0.5840236 ],\n",
       "         [-0.12325238, -1.3975149 ,  0.20568569,  2.2322502 ]],\n",
       "        dtype=float32)>, <tf.Tensor: id=3, shape=(3, 1), dtype=int32, numpy=\n",
       "  array([[1],\n",
       "         [0],\n",
       "         [0]], dtype=int32)>, <tf.Tensor: id=5, shape=(3, 1), dtype=float32, numpy=\n",
       "  array([[1.],\n",
       "         [1.],\n",
       "         [1.]], dtype=float32)>, <tf.Tensor: id=7, shape=(3, 4), dtype=float32, numpy=\n",
       "  array([[-0.02158183,  0.20788908, -0.02169999, -0.25955456],\n",
       "         [-0.01459029, -0.6107474 ,  0.0403781 ,  0.8856067 ],\n",
       "         [-0.15120268, -1.5939119 ,  0.2503307 ,  2.580682  ]],\n",
       "        dtype=float32)>, <tf.Tensor: id=9, shape=(3, 1), dtype=float32, numpy=\n",
       "  array([[0.],\n",
       "         [0.],\n",
       "         [1.]], dtype=float32)>))"
      ]
     },
     "execution_count": 15,
     "metadata": {},
     "output_type": "execute_result"
    }
   ],
   "source": [
    "len(mem), mem.sample(3)"
   ]
  },
  {
   "cell_type": "markdown",
   "metadata": {
    "hidden": true
   },
   "source": [
    "### Networks"
   ]
  },
  {
   "cell_type": "markdown",
   "metadata": {
    "hidden": true
   },
   "source": [
    "**Coding Assigment** Create a network class similar to the one used for function approximation."
   ]
  },
  {
   "cell_type": "code",
   "execution_count": 16,
   "metadata": {
    "hidden": true
   },
   "outputs": [],
   "source": [
    "'''\n",
    "Fill in the codes for your Q-network\n",
    "'''\n",
    "class DenseNetwork(models.Model):\n",
    "    def __init__(self, output_size, hidden_sizes, **args):\n",
    "        super(DenseNetwork, self).__init__()\n",
    "        self.body = [layers.Dense(i, activation='relu') for i in hidden_sizes]\n",
    "        self.head = layers.Dense(output_size)\n",
    "    def call(self, x, training=True):\n",
    "        for l in self.body: x = l(x) \n",
    "        return self.head(x)"
   ]
  },
  {
   "cell_type": "code",
   "execution_count": 17,
   "metadata": {
    "hidden": true
   },
   "outputs": [
    {
     "data": {
      "text/plain": [
       "<tf.Tensor: id=69, shape=(1, 2), dtype=float64, numpy=array([[-0.70297619, -0.10077457]])>"
      ]
     },
     "execution_count": 17,
     "metadata": {},
     "output_type": "execute_result"
    }
   ],
   "source": [
    "m = DenseNetwork(env.action_space.n, [16])\n",
    "m(state[None,:])"
   ]
  },
  {
   "cell_type": "markdown",
   "metadata": {
    "hidden": true
   },
   "source": [
    "### Agent"
   ]
  },
  {
   "cell_type": "markdown",
   "metadata": {
    "hidden": true
   },
   "source": [
    "**Coding Assignment** Fill in the methods `learn` and `act` in the agent below (also `get_eps` to get epsilon-greedy). Notice how they are different from the function approximation version."
   ]
  },
  {
   "cell_type": "code",
   "execution_count": 18,
   "metadata": {
    "hidden": true
   },
   "outputs": [],
   "source": [
    "class DQNAgent:\n",
    "    def __init__(self, state_size, action_size, replay_memory,\n",
    "        lr=1e-3, bs = 64, clip=1., hidden_sizes = [256,256],\n",
    "        gamma=0.99, tau= 1e-3, update_interval = 5, update_times = 1,\n",
    "        Architecture=DenseNetwork):\n",
    "        \n",
    "        self.state_size = state_size\n",
    "        self.action_size = action_size\n",
    "        self.hidden_sizes = hidden_sizes\n",
    "        self.lr = lr\n",
    "        self.bs = bs\n",
    "        self.gamma = gamma\n",
    "        self.update_interval = update_interval\n",
    "        self.update_times = update_times\n",
    "        self.tau = tau\n",
    "        self.losses = []\n",
    "        self.clip = clip\n",
    "        self.Architecture = Architecture\n",
    "\n",
    "        #networks\n",
    "        self.network_local = Architecture(output_size=self.action_size, hidden_sizes = self.hidden_sizes, \n",
    "            input_size=state_size)\n",
    "        self.network_local.build(input_shape=(None,self.state_size))\n",
    "        self.network_target = Architecture(output_size=self.action_size,hidden_sizes=self.hidden_sizes,\n",
    "            input_size=state_size)\n",
    "        self.network_target.build(input_shape=(None,self.state_size))\n",
    "        #make the target network exactly same as the local network\n",
    "        self.network_target.set_weights(self.network_local.get_weights())\n",
    "        \n",
    "        #optimizer\n",
    "        self.optimizer = tf.keras.optimizers.Adam(learning_rate = self.lr, clipvalue=self.clip)\n",
    "        \n",
    "        # replay memory\n",
    "        self.memory = replay_memory\n",
    "        # count time steps and episodes\n",
    "        self.t_step = 0\n",
    "        self.episodes = 0\n",
    "    \n",
    "    def step(self, state, action, reward, next_state, done):\n",
    "        #add transition to replay memory\n",
    "        self.memory.add(state, action, reward, next_state, done, #for all others\n",
    "            self.episodes, self.t_step) #for nstep memory\n",
    "\n",
    "        #increment episodes if done\n",
    "        if done: \n",
    "            self.t_step = 0\n",
    "            self.episodes+=1\n",
    "        \n",
    "        #update target network\n",
    "        self.soft_update()\n",
    "        #self.hard_update()\n",
    "        \n",
    "        # learn every self.t_step\n",
    "        self.t_step += 1\n",
    "        if self.t_step % self.update_interval == 0:\n",
    "            if len(self.memory) > self.bs:\n",
    "                for _ in range(self.update_times):\n",
    "                    transitions = self.memory.sample(self.bs)\n",
    "                    loss = self.learn(transitions)\n",
    "                    self.losses.append(loss)\n",
    "\n",
    "    def act(self, state):\n",
    "        '''\n",
    "        Fill in the codes\n",
    "        '''\n",
    "        eps = self.get_eps(self.episodes)\n",
    "        action_values = self.network_local(tf.cast(state[None,:],dtype=tf.float32))\n",
    "        #epsilon greedy exploration\n",
    "        if random.random() > eps:\n",
    "            return np.argmax(action_values.numpy())\n",
    "        else:\n",
    "            return random.choice(np.arange(self.action_size))\n",
    "\n",
    "    #we use tf.function decorator for training process to switch from eager to static graph\n",
    "    #NOT compatible with PrioritizedMemory yet\n",
    "    #with decorator\n",
    "    #1.64 ms ± 45.3 µs per loop (mean ± std. dev. of 7 runs, 1000 loops each)\n",
    "    #without decorator\n",
    "    #2.93 ms ± 442 µs per loop (mean ± std. dev. of 7 runs, 100 loops each)\n",
    "#     @tf.function\n",
    "    def learn(self, transitions):\n",
    "        '''\n",
    "        Fill in the codes\n",
    "        '''\n",
    "        states, actions, rewards, next_states, dones = transitions\n",
    "        q_targets_next = tf.reduce_max(self.network_target(next_states),1)[:,tf.newaxis]\n",
    "        q_targets = rewards + (self.gamma * q_targets_next) * (1 - dones)\n",
    "        q_targets = q_targets[:,0] #flatten q_targets\n",
    "\n",
    "        with tf.GradientTape() as tape:\n",
    "            #get predictions of all actions\n",
    "            preds = self.network_local(states)\n",
    "            \n",
    "            #get index of actions used to calculate q_expected\n",
    "            actions = actions[:,0] #flatten actions\n",
    "            seq = tf.range(0, actions.shape[0])\n",
    "            action_idxs = tf.transpose(tf.stack([seq, actions]))\n",
    "\n",
    "            #get q values only at specific action indice\n",
    "            #tensorflow has this weird way to gather where you need to put index as\n",
    "            #[[0, action_idx1],[1, action_idx2],...,[n, action_idxn]]\n",
    "            q_expected = tf.gather_nd(preds, action_idxs)\n",
    "            \n",
    "            #calculate loss\n",
    "            loss = self.vanilla_loss(q_targets, q_expected)\n",
    "            \n",
    "            #get gradients\n",
    "            gradients = tape.gradient(loss, self.network_local.trainable_weights)\n",
    "        \n",
    "        #apply gradients\n",
    "        self.optimizer.apply_gradients(zip(gradients,self.network_local.trainable_weights))\n",
    "        \n",
    "        return loss\n",
    "\n",
    "    def vanilla_loss(self, q_targets, q_expected):\n",
    "        return tf.keras.losses.mse(q_targets, q_expected)\n",
    "\n",
    "    def hard_update(self):\n",
    "        if self.t_step % 1/self.tau==0:\n",
    "            self.network_target.set_weights(self.network_local.get_weights())\n",
    "\n",
    "    def soft_update(self):\n",
    "        weights_local = np.array(self.network_local.get_weights())\n",
    "        weights_target = np.array(self.network_target.get_weights())\n",
    "        self.network_target.set_weights(self.tau * weights_local + (1 - self.tau) * weights_target)\n",
    "        \n",
    "    def get_eps(self, i, eps_start = 1., eps_end = 0.001, eps_decay = 0.9):\n",
    "        '''\n",
    "        Fill in the codes\n",
    "        '''\n",
    "        eps = max(eps_start * (eps_decay ** i), eps_end)\n",
    "        return(eps)"
   ]
  },
  {
   "cell_type": "markdown",
   "metadata": {
    "hidden": true
   },
   "source": [
    "### Training"
   ]
  },
  {
   "cell_type": "markdown",
   "metadata": {
    "hidden": true
   },
   "source": [
    "Let's use the agent we built to solve `CartPole-v1`. The official solve score is 200 over 100 episodes, but for the sake of time we will use 100. For fully solved versions, see the notebooks in the repository."
   ]
  },
  {
   "cell_type": "code",
   "execution_count": 19,
   "metadata": {
    "hidden": true
   },
   "outputs": [
    {
     "name": "stdout",
     "output_type": "stream",
     "text": [
      "\u001b[33mWARN: gym.spaces.Box autodetected dtype as <class 'numpy.float32'>. Please provide explicit dtype.\u001b[0m\n"
     ]
    }
   ],
   "source": [
    "env = gym.make('CartPole-v1')\n",
    "mem = VanillaMemory(int(1e5)) \n",
    "a = DQNAgent(state_size = env.reset().shape[0], hidden_sizes = [256,256],\n",
    "             action_size = env.action_space.n, replay_memory = mem) "
   ]
  },
  {
   "cell_type": "code",
   "execution_count": 20,
   "metadata": {
    "hidden": true
   },
   "outputs": [],
   "source": [
    "def run_agent(env,a):\n",
    "    scores = []\n",
    "    scores_deque = deque(maxlen=100) \n",
    "    moving_scores = []\n",
    "    start_time = datetime.now()\n",
    "    solved_score=100\n",
    "    action_df = []\n",
    "    weight_df = []\n",
    "\n",
    "    for i in tqdm_notebook(range(10000)):\n",
    "        if (i+1) % 100==0: print(f'Episdoe {i} Moving Average: {np.mean(scores_deque)}')\n",
    "        state = env.reset()\n",
    "        score = 0\n",
    "        t=0\n",
    "        actions = []\n",
    "        while True:\n",
    "            t+=1\n",
    "            #select action\n",
    "            action = a.act(state)  \n",
    "            actions.append(action)\n",
    "\n",
    "            #env step\n",
    "            next_state, reward, done, info = env.step(action)   \n",
    "\n",
    "            #engineer the reward to motivate your agent even more\n",
    "            if done: \n",
    "                fake_reward = reward\n",
    "            else:\n",
    "                fake_reward = reward\n",
    "\n",
    "            #agent step\n",
    "            a.step(state,action,fake_reward,next_state,done)\n",
    "\n",
    "            #collect score\n",
    "            score += reward\n",
    "\n",
    "            #go to next state\n",
    "            state = next_state   \n",
    "\n",
    "            #break if done\n",
    "            if done: break\n",
    "\n",
    "        #book keeping\n",
    "        scores.append(score)\n",
    "        scores_deque.append(score)\n",
    "        moving_scores.append(np.mean(scores_deque))\n",
    "        action_df.append(Counter(actions))\n",
    "        weight_df.append([tf.reduce_mean(i).numpy() for i in a.network_local.get_weights()])\n",
    "\n",
    "        if moving_scores[-1] > solved_score: \n",
    "            print(f'Solved at Play {i}: {datetime.now() - start_time} Moving average: {moving_scores[-1]}')\n",
    "            break\n",
    "    return scores, moving_scores, a.losses, action_df, weight_df"
   ]
  },
  {
   "cell_type": "code",
   "execution_count": 21,
   "metadata": {
    "hidden": true
   },
   "outputs": [
    {
     "data": {
      "application/vnd.jupyter.widget-view+json": {
       "model_id": "5a778ef64e6c468cb2272ef0b17769dc",
       "version_major": 2,
       "version_minor": 0
      },
      "text/plain": [
       "HBox(children=(IntProgress(value=0, max=10000), HTML(value='')))"
      ]
     },
     "metadata": {},
     "output_type": "display_data"
    },
    {
     "name": "stdout",
     "output_type": "stream",
     "text": [
      "Episdoe 99 Moving Average: 10.252525252525253\n",
      "Episdoe 199 Moving Average: 9.46\n",
      "Episdoe 299 Moving Average: 9.52\n",
      "Episdoe 399 Moving Average: 9.37\n",
      "Episdoe 499 Moving Average: 9.4\n",
      "Episdoe 599 Moving Average: 96.4\n",
      "Solved at Play 600: 0:01:03.015558 Moving average: 101.17\n"
     ]
    }
   ],
   "source": [
    "scores, moving_scores, losses, action_df, weight_df = run_agent(env,a)"
   ]
  },
  {
   "cell_type": "code",
   "execution_count": 22,
   "metadata": {
    "hidden": true
   },
   "outputs": [
    {
     "data": {
      "text/plain": [
       "[<matplotlib.lines.Line2D at 0x7f66ac5cf0b8>]"
      ]
     },
     "execution_count": 22,
     "metadata": {},
     "output_type": "execute_result"
    },
    {
     "data": {
      "image/png": "[encoded data removed]",
      "text/plain": [
       "<Figure size 432x288 with 1 Axes>"
      ]
     },
     "metadata": {
      "needs_background": "light"
     },
     "output_type": "display_data"
    }
   ],
   "source": [
    "#score plot\n",
    "plt.plot(scores)\n",
    "plt.plot(moving_scores)"
   ]
  },
  {
   "cell_type": "code",
   "execution_count": 23,
   "metadata": {
    "hidden": true
   },
   "outputs": [
    {
     "data": {
      "text/plain": [
       "[<matplotlib.lines.Line2D at 0x7f66ac5284e0>]"
      ]
     },
     "execution_count": 23,
     "metadata": {},
     "output_type": "execute_result"
    },
    {
     "data": {
      "image/png": "[encoded data removed]",
      "text/plain": [
       "<Figure size 432x288 with 1 Axes>"
      ]
     },
     "metadata": {
      "needs_background": "light"
     },
     "output_type": "display_data"
    }
   ],
   "source": [
    "#loss of local network\n",
    "plt.plot(losses)"
   ]
  },
  {
   "cell_type": "code",
   "execution_count": 24,
   "metadata": {
    "hidden": true
   },
   "outputs": [
    {
     "data": {
      "image/png": "[encoded data removed]",
      "text/plain": [
       "<Figure size 432x288 with 1 Axes>"
      ]
     },
     "metadata": {
      "needs_background": "light"
     },
     "output_type": "display_data"
    }
   ],
   "source": [
    "#number of actions per episode\n",
    "action_df = pd.DataFrame(action_df)\n",
    "for i in action_df.columns:\n",
    "    plt.plot(action_df[i])"
   ]
  },
  {
   "cell_type": "code",
   "execution_count": 25,
   "metadata": {
    "hidden": true
   },
   "outputs": [
    {
     "data": {
      "text/plain": [
       "[<matplotlib.lines.Line2D at 0x7f66ac1464e0>]"
      ]
     },
     "execution_count": 25,
     "metadata": {},
     "output_type": "execute_result"
    },
    {
     "data": {
      "image/png": "[encoded data removed]",
      "text/plain": [
       "<Figure size 432x288 with 1 Axes>"
      ]
     },
     "metadata": {
      "needs_background": "light"
     },
     "output_type": "display_data"
    }
   ],
   "source": [
    "#ratio of actions\n",
    "plt.plot(action_df[0]/action_df[1])\n",
    "plt.plot([1 for i in range(action_df.shape[0])])"
   ]
  },
  {
   "cell_type": "code",
   "execution_count": 26,
   "metadata": {
    "hidden": true
   },
   "outputs": [
    {
     "data": {
      "text/plain": [
       "<matplotlib.legend.Legend at 0x7f66ac12f3c8>"
      ]
     },
     "execution_count": 26,
     "metadata": {},
     "output_type": "execute_result"
    },
    {
     "data": {
      "image/png": "[encoded data removed]",
      "text/plain": [
       "<Figure size 432x288 with 1 Axes>"
      ]
     },
     "metadata": {
      "needs_background": "light"
     },
     "output_type": "display_data"
    }
   ],
   "source": [
    "#average weight of each layer\n",
    "weight_df = pd.DataFrame(weight_df)\n",
    "weight_df.columns = [str(i.shape) for i in a.network_local.get_weights()]\n",
    "weight_df.columns = ['w1','b1','w2','b2','w3','b3']\n",
    "for i in range(weight_df.shape[1]):\n",
    "    plt.plot(weight_df.iloc[:,i])\n",
    "plt.legend(bbox_to_anchor=(1.05,1),loc=2)"
   ]
  },
  {
   "cell_type": "markdown",
   "metadata": {
    "heading_collapsed": true
   },
   "source": [
    "## [Double Deep Q-learning](https://arxiv.org/pdf/1509.06461.pdf)"
   ]
  },
  {
   "cell_type": "markdown",
   "metadata": {
    "hidden": true
   },
   "source": [
    "**Coding Assignment** What is the motivation for DDQN? Can you prove that it is really the case?"
   ]
  },
  {
   "cell_type": "code",
   "execution_count": 27,
   "metadata": {
    "hidden": true
   },
   "outputs": [
    {
     "data": {
      "text/plain": [
       "(20, 100, 15, 17)"
      ]
     },
     "execution_count": 27,
     "metadata": {},
     "output_type": "execute_result"
    }
   ],
   "source": [
    "'''\n",
    "Fill in the codes\n",
    "'''\n",
    "q_real = {'state1':[10,15], 'state2':[30,50]}\n",
    "q1 = {'state1':[20,17], 'state2':[60,48]} #overestimates first action by 2x\n",
    "q2 = {'state1':[11,30], 'state2':[28,100]} #overestimates second action by 2x\n",
    "max(q1['state1']), max(q2['state2']), max(q_real['state1']), q1['state1'][np.argmax(q2['state1'])]"
   ]
  },
  {
   "cell_type": "markdown",
   "metadata": {
    "hidden": true
   },
   "source": [
    "**Coding Assigment** Make our agent DDQN. \n",
    "\n",
    "*Hint* Find the pseudocode in the [paper](https://arxiv.org/pdf/1509.06461.pdf)"
   ]
  },
  {
   "cell_type": "code",
   "execution_count": 28,
   "metadata": {
    "code_folding": [
     0
    ],
    "hidden": true
   },
   "outputs": [],
   "source": [
    "class DQNAgent:\n",
    "    def __init__(self, state_size, action_size, replay_memory,\n",
    "        lr=1e-3, bs = 64, clip=1., hidden_sizes = [256,256],\n",
    "        gamma=0.99, tau= 1e-3, update_interval = 5, update_times = 1,\n",
    "        Architecture=DenseNetwork, double=True):\n",
    "        \n",
    "        self.state_size = state_size\n",
    "        self.action_size = action_size\n",
    "        self.hidden_sizes = hidden_sizes\n",
    "        self.lr = lr\n",
    "        self.bs = bs\n",
    "        self.gamma = gamma\n",
    "        self.update_interval = update_interval\n",
    "        self.update_times = update_times\n",
    "        self.tau = tau\n",
    "        self.losses = []\n",
    "        self.clip = clip\n",
    "        self.Architecture = Architecture\n",
    "        self.double = double\n",
    "\n",
    "        #networks\n",
    "        self.network_local = Architecture(output_size=self.action_size, hidden_sizes = self.hidden_sizes, \n",
    "            input_size=state_size)\n",
    "        self.network_local.build(input_shape=(None,self.state_size))\n",
    "        self.network_target = Architecture(output_size=self.action_size,hidden_sizes=self.hidden_sizes,\n",
    "            input_size=state_size)\n",
    "        self.network_target.build(input_shape=(None,self.state_size))\n",
    "        #make the target network exactly same as the local network\n",
    "        self.network_target.set_weights(self.network_local.get_weights())\n",
    "        \n",
    "        #optimizer\n",
    "        self.optimizer = tf.keras.optimizers.Adam(learning_rate = self.lr, clipvalue=self.clip)\n",
    "        \n",
    "        # replay memory\n",
    "        self.memory = replay_memory\n",
    "        # count time steps and episodes\n",
    "        self.t_step = 0\n",
    "        self.episodes = 0\n",
    "    \n",
    "    def step(self, state, action, reward, next_state, done):\n",
    "        #add transition to replay memory\n",
    "        self.memory.add(state, action, reward, next_state, done, #for all others\n",
    "            self.episodes, self.t_step) #for nstep memory\n",
    "\n",
    "        #increment episodes if done\n",
    "        if done: \n",
    "            self.t_step = 0\n",
    "            self.episodes+=1\n",
    "        \n",
    "        #update target network\n",
    "        self.soft_update()\n",
    "        #self.hard_update()\n",
    "        \n",
    "        # learn every self.t_step\n",
    "        self.t_step += 1\n",
    "        if self.t_step % self.update_interval == 0:\n",
    "            if len(self.memory) > self.bs:\n",
    "                for _ in range(self.update_times):\n",
    "                    transitions = self.memory.sample(self.bs)\n",
    "                    loss = self.learn(transitions)\n",
    "                    self.losses.append(loss)\n",
    "\n",
    "    def act(self, state):\n",
    "        eps = self.get_eps(self.episodes)\n",
    "        action_values = self.network_local(tf.cast(state[None,:],dtype=tf.float32))\n",
    "        #epsilon greedy exploration\n",
    "        if random.random() > eps:\n",
    "            return np.argmax(action_values.numpy())\n",
    "        else:\n",
    "            return random.choice(np.arange(self.action_size))\n",
    "\n",
    "    #we use tf.function decorator for training process to switch from eager to static graph\n",
    "    #NOT compatible with PrioritizedMemory yet\n",
    "    #with decorator\n",
    "    #1.64 ms ± 45.3 µs per loop (mean ± std. dev. of 7 runs, 1000 loops each)\n",
    "    #without decorator\n",
    "    #2.93 ms ± 442 µs per loop (mean ± std. dev. of 7 runs, 100 loops each)\n",
    "#     @tf.function\n",
    "    def learn(self, transitions):\n",
    "        states, actions, rewards, next_states, dones = transitions\n",
    "        '''\n",
    "        Fill in the codes\n",
    "        '''\n",
    "        if self.double:\n",
    "            max_actions_next = tf.cast(tf.argmax(self.network_local(next_states),1), dtype=tf.int32)\n",
    "            seq = tf.range(0, actions.shape[0])\n",
    "            max_action_idxs = tf.transpose(tf.stack([seq, max_actions_next]))\n",
    "            q_targets_next = tf.gather_nd(self.network_target(next_states), max_action_idxs)[:,tf.newaxis]\n",
    "        else:\n",
    "            q_targets_next = tf.reduce_max(self.network_target(next_states),1)[:,tf.newaxis]\n",
    "            \n",
    "        #bellman\n",
    "        q_targets = rewards + (self.gamma * q_targets_next) * (1 - dones)\n",
    "        q_targets = q_targets[:,0] #flatten q_targets\n",
    "\n",
    "        with tf.GradientTape() as tape:\n",
    "            #get predictions of all actions\n",
    "            preds = self.network_local(states)\n",
    "            \n",
    "            #get index of actions used to calculate q_expected\n",
    "            actions = actions[:,0] #flatten actions\n",
    "            seq = tf.range(0, actions.shape[0])\n",
    "            action_idxs = tf.transpose(tf.stack([seq, actions]))\n",
    "\n",
    "            #get q values only at specific action indice\n",
    "            #tensorflow has this weird way to gather where you need to put index as\n",
    "            #[[0, action_idx1],[1, action_idx2],...,[n, action_idxn]]\n",
    "            q_expected = tf.gather_nd(preds, action_idxs)\n",
    "            \n",
    "            #calculate loss\n",
    "            loss = self.vanilla_loss(q_targets, q_expected)\n",
    "            \n",
    "            #get gradients\n",
    "            gradients = tape.gradient(loss, self.network_local.trainable_weights)\n",
    "        \n",
    "        #apply gradients\n",
    "        self.optimizer.apply_gradients(zip(gradients,self.network_local.trainable_weights))\n",
    "        \n",
    "        return loss\n",
    "\n",
    "    def vanilla_loss(self, q_targets, q_expected):\n",
    "        return tf.keras.losses.mse(q_targets, q_expected)\n",
    "\n",
    "    def hard_update(self):\n",
    "        if self.t_step % 1/self.tau==0:\n",
    "            self.network_target.set_weights(self.network_local.get_weights())\n",
    "\n",
    "    def soft_update(self):\n",
    "        weights_local = np.array(self.network_local.get_weights())\n",
    "        weights_target = np.array(self.network_target.get_weights())\n",
    "        self.network_target.set_weights(self.tau * weights_local + (1 - self.tau) * weights_target)\n",
    "        \n",
    "    def get_eps(self, i, eps_start = 1., eps_end = 0.001, eps_decay = 0.9):\n",
    "        eps = max(eps_start * (eps_decay ** i), eps_end)\n",
    "        return(eps)"
   ]
  },
  {
   "cell_type": "code",
   "execution_count": 29,
   "metadata": {
    "hidden": true
   },
   "outputs": [
    {
     "name": "stdout",
     "output_type": "stream",
     "text": [
      "\u001b[33mWARN: gym.spaces.Box autodetected dtype as <class 'numpy.float32'>. Please provide explicit dtype.\u001b[0m\n"
     ]
    }
   ],
   "source": [
    "env = gym.make('CartPole-v1')\n",
    "mem = VanillaMemory(int(1e5)) \n",
    "a = DQNAgent(state_size = env.reset().shape[0], hidden_sizes = [256,256],\n",
    "             action_size = env.action_space.n, replay_memory = mem, double=True) "
   ]
  },
  {
   "cell_type": "code",
   "execution_count": 30,
   "metadata": {
    "hidden": true
   },
   "outputs": [
    {
     "data": {
      "application/vnd.jupyter.widget-view+json": {
       "model_id": "44e06a7a13b946cd8b16ac2bebc2d5a6",
       "version_major": 2,
       "version_minor": 0
      },
      "text/plain": [
       "HBox(children=(IntProgress(value=0, max=10000), HTML(value='')))"
      ]
     },
     "metadata": {},
     "output_type": "display_data"
    },
    {
     "name": "stdout",
     "output_type": "stream",
     "text": [
      "Episdoe 99 Moving Average: 11.616161616161616\n",
      "Episdoe 199 Moving Average: 9.5\n",
      "Episdoe 299 Moving Average: 9.64\n",
      "Episdoe 399 Moving Average: 9.6\n",
      "Solved at Play 494: 0:00:57.970140 Moving average: 100.07\n"
     ]
    }
   ],
   "source": [
    "scores, moving_scores, losses, action_df, weight_df = run_agent(env,a)"
   ]
  },
  {
   "cell_type": "markdown",
   "metadata": {
    "heading_collapsed": true
   },
   "source": [
    "## [Dueling Networks](https://arxiv.org/pdf/1511.06581.pdf)"
   ]
  },
  {
   "cell_type": "markdown",
   "metadata": {
    "hidden": true
   },
   "source": [
    "**Advantage** is the surplus of state-action value compared to the current state value. Intuitively, it is how much better the agent expects the results to be if it took this particular action instead of any action at all. It is formulated as:\n",
    "\n",
    "$$A(s,a) = Q(s,a) - V(s,a)$$\n",
    "\n",
    "However, we cannot estimate any of these values since we need to fix 2 out of 3 values to get a unique solution. The [dueling network paper](https://arxiv.org/pdf/1511.06581.pdf) remedy this by proposing an equation where advantage is zero:\n",
    "\n",
    "$$Q(s,a) = V(s) + A(s,a) - max_{a'}\\sum_{a'}A(s,a')$$\n",
    "\n",
    "and for numerical stability:\n",
    "\n",
    "$$Q(s,a) = V(s) + A(s,a) - \\frac{1}{|A|}\\sum_{a'}A(s,a')$$\n"
   ]
  },
  {
   "cell_type": "markdown",
   "metadata": {
    "hidden": true
   },
   "source": [
    "This dueling network architecture essentially has three important parts:\n",
    "\n",
    "1. Feature extraction stream - a set of dense layers that takes input of state (`batch_size` * `state_size`) and output a number of hidden layers (`batch_size` * `nb_hidden`)\n",
    "2. Value stream - a set of dense layers that takes input from the feature extraction stream (`batch_size` * `nb_hidden`) and output number of actions (`batch_size` * `action_size`)\n",
    "3. Advantage stream - a set of dense layers that takes input from the feature extraction stream (`batch_size` * `nb_hidden`) and output a single advantage (`batch_size` * `1`)\n",
    "\n",
    "We combine the result of 2. and 3. in the following manner:\n",
    "\n",
    "$$Q(s,a) = V(s) + A(s,a) - \\frac{1}{|A|}\\sum_{a'}A(s,a')$$\n",
    "\n",
    "where\n",
    "* $V(s)$ is the value function given state $s$ \n",
    "* $A(s,a)$ is the advantage function given state $s$  and action $a$."
   ]
  },
  {
   "cell_type": "markdown",
   "metadata": {
    "hidden": true
   },
   "source": [
    "**Coding Assignment** Modify our `DenseNetwork` to be `DuelingNetwork`."
   ]
  },
  {
   "cell_type": "code",
   "execution_count": 31,
   "metadata": {
    "hidden": true
   },
   "outputs": [],
   "source": [
    "'''\n",
    "Fill in the codes\n",
    "'''\n",
    "class DuelingNetwork(models.Model):\n",
    "    def __init__(self, output_size, hidden_sizes, **args):\n",
    "        super(DuelingNetwork, self).__init__()\n",
    "        self.feature = [layers.Dense(i, activation='relu') for i in hidden_sizes[:-1]]\n",
    "        self.value = [layers.Dense(hidden_sizes[-1], activation='relu'), layers.Dense(1)]\n",
    "        self.advantage = [layers.Dense(hidden_sizes[-1], activation='relu'), layers.Dense(output_size)]\n",
    "    def call(self, x, training=True):\n",
    "        feat = x\n",
    "        for l in self.feature: feat = l(feat)\n",
    "        adv = feat\n",
    "        for a in self.advantage: adv = a(adv)\n",
    "        val = feat\n",
    "        for v in self.value: val = v(val)\n",
    "        return adv + val - tf.reduce_mean(adv)"
   ]
  },
  {
   "cell_type": "code",
   "execution_count": 32,
   "metadata": {
    "hidden": true
   },
   "outputs": [
    {
     "name": "stdout",
     "output_type": "stream",
     "text": [
      "\u001b[33mWARN: gym.spaces.Box autodetected dtype as <class 'numpy.float32'>. Please provide explicit dtype.\u001b[0m\n"
     ]
    }
   ],
   "source": [
    "env = gym.make('CartPole-v1')\n",
    "mem = VanillaMemory(int(1e5)) \n",
    "a = DQNAgent(state_size = env.reset().shape[0], hidden_sizes = [256,256],\n",
    "             action_size = env.action_space.n, replay_memory = mem,\n",
    "             Architecture = DuelingNetwork) "
   ]
  },
  {
   "cell_type": "code",
   "execution_count": 33,
   "metadata": {
    "hidden": true
   },
   "outputs": [
    {
     "data": {
      "application/vnd.jupyter.widget-view+json": {
       "model_id": "9a69ee6024ca40189d5e5dac1156a259",
       "version_major": 2,
       "version_minor": 0
      },
      "text/plain": [
       "HBox(children=(IntProgress(value=0, max=10000), HTML(value='')))"
      ]
     },
     "metadata": {},
     "output_type": "display_data"
    },
    {
     "name": "stdout",
     "output_type": "stream",
     "text": [
      "Episdoe 99 Moving Average: 10.909090909090908\n",
      "Episdoe 199 Moving Average: 10.59\n",
      "Episdoe 299 Moving Average: 91.87\n",
      "Solved at Play 301: 0:01:24.983739 Moving average: 100.64\n"
     ]
    }
   ],
   "source": [
    "scores, moving_scores, losses, action_df, weight_df = run_agent(env,a)"
   ]
  },
  {
   "cell_type": "markdown",
   "metadata": {
    "heading_collapsed": true
   },
   "source": [
    "## [Prioritized Memory](https://arxiv.org/pdf/1511.05952.pdf)"
   ]
  },
  {
   "cell_type": "markdown",
   "metadata": {
    "hidden": true
   },
   "source": [
    "**Conceptual Assignment** Is there a better way to feed transitions into the agent other than random selection? How?"
   ]
  },
  {
   "cell_type": "markdown",
   "metadata": {
    "hidden": true
   },
   "source": [
    "Instead of randomly sampling batches of transitions to train the networks, [prioritized experience replay paper](https://arxiv.org/pdf/1511.05952.pdf) proposed that we selectively sample them according to how much the models learn from them (represented by *priorities*), that is, the size of losses generated by learning from those transitions. In order to do this effectively, there are several steps to be done:\n",
    "\n",
    "1. All new transitions are added with the highest priority."
   ]
  },
  {
   "cell_type": "code",
   "execution_count": 34,
   "metadata": {
    "hidden": true
   },
   "outputs": [],
   "source": [
    "# def add(self, *args):\n",
    "#     max_prior = max(self.priority) if self.memory else 1.\n",
    "#     t = {'state':args[0],'action':args[1],'reward':args[2],'next_state':args[3],'done':args[4]}\n",
    "#     self.memory.append(t)\n",
    "#     #give latest transition max priority for optimistic start\n",
    "#     self.priority.append(max_prior)"
   ]
  },
  {
   "cell_type": "markdown",
   "metadata": {
    "hidden": true
   },
   "source": [
    "2. After the agent trained on a set of sampled transitions, we update the priorities of those transitions with the losses of the local network."
   ]
  },
  {
   "cell_type": "code",
   "execution_count": 35,
   "metadata": {
    "hidden": true
   },
   "outputs": [],
   "source": [
    "# def update_priority(self, idx, losses):\n",
    "#     for i, l in zip(idx, losses): \n",
    "#         self.priority[i] = l.numpy().squeeze()"
   ]
  },
  {
   "cell_type": "markdown",
   "metadata": {
    "hidden": true
   },
   "source": [
    "3. Every time we sample a batch of transitions, we recalculate the sampling probability from the priorities as follows:\n",
    "\n",
    "$$P_i = \\frac{p_i^\\alpha}{\\Sigma p_i^\\alpha}$$\n",
    "\n",
    "where \n",
    "* $\\alpha$ is the smoothing parameter (uniform sampling is when $\\alpha=0$); original paper suggested 0.6 as optimal value\n",
    "* $P_i$ is probability of transition $i$\n",
    "* $p_i$ is priority of transition $i$"
   ]
  },
  {
   "cell_type": "markdown",
   "metadata": {
    "hidden": true
   },
   "source": [
    "4. Since we are selectively sampling the transitions, we need to adjust our losses in order to compensate for this otherwise the higher losses as a result of \"more difficult\" transitions will make the training unstable. We use weighted importance sampling by multiplying the sampling weights to the squared-error losses before averaging them."
   ]
  },
  {
   "cell_type": "code",
   "execution_count": 36,
   "metadata": {
    "hidden": true
   },
   "outputs": [],
   "source": [
    "# def wis_loss(self, q_targets, q_expected, idx, sampling_weights, small_e=1e-5):\n",
    "#     losses = tf.pow(q_expected-q_targets, 2) * sampling_weights\n",
    "#     self.memory.update_priority(idx,losses+small_e)\n",
    "#     loss = tf.reduce_mean(losses)\n",
    "#     return loss"
   ]
  },
  {
   "cell_type": "markdown",
   "metadata": {
    "hidden": true
   },
   "source": [
    "The sampling weights are calculated as follows:\n",
    "$$w_i = \\biggl(\\frac{1}{N*P_i}\\biggl)^\\beta$$\n",
    "where\n",
    "* $\\beta$ is the smoothing parameter ($\\beta$ = 1 means full compensation for the selective sampling)\n",
    "* $P_i$ is probability of transition $i$\n",
    "* $N$ is the number of transitions in the replay memory"
   ]
  },
  {
   "cell_type": "code",
   "execution_count": 37,
   "metadata": {
    "hidden": true
   },
   "outputs": [],
   "source": [
    "# #importance sampling weights\n",
    "# #higher beta, higher compensation for prioritized sampling\n",
    "# sampling_weights = (len(self.memory)*self.probs[idx])**(-beta)\n",
    "# #normalize by max weight to always scale down\n",
    "# sampling_weights = sampling_weights / np.max(sampling_weights) \n",
    "# sampling_weights = tf.cast(sampling_weights, dtype=tf.float32)"
   ]
  },
  {
   "cell_type": "markdown",
   "metadata": {
    "hidden": true
   },
   "source": [
    "We scale $\\beta$ up from 0.4 to 1 as the training goes on as suggested by the original paper. This allows the model to learn faster during the early stages (with less compensation for unusually high losses) and prevent the loss from going out of control in the latter."
   ]
  },
  {
   "cell_type": "code",
   "execution_count": 38,
   "metadata": {
    "hidden": true
   },
   "outputs": [],
   "source": [
    "def get_beta(i, beta_start = 0.4, beta_end = 1, beta_growth = 1.05):\n",
    "    beta = min(beta_start * (beta_growth ** i), beta_end)\n",
    "    return(beta)"
   ]
  },
  {
   "cell_type": "code",
   "execution_count": 39,
   "metadata": {
    "hidden": true
   },
   "outputs": [
    {
     "data": {
      "text/plain": [
       "[<matplotlib.lines.Line2D at 0x7f66ac071a90>]"
      ]
     },
     "execution_count": 39,
     "metadata": {},
     "output_type": "execute_result"
    },
    {
     "data": {
      "image/png": "[encoded data removed]",
      "text/plain": [
       "<Figure size 432x288 with 1 Axes>"
      ]
     },
     "metadata": {
      "needs_background": "light"
     },
     "output_type": "display_data"
    }
   ],
   "source": [
    "betas = [get_beta(i) for i in range(100)]\n",
    "plt.plot(betas)"
   ]
  },
  {
   "cell_type": "code",
   "execution_count": 40,
   "metadata": {
    "hidden": true
   },
   "outputs": [],
   "source": [
    "#this is the entirety of prioritized memory class\n",
    "class PrioritizedMemory:\n",
    "    def __init__(self, memory_size, alpha = 0.6):\n",
    "        self.memory_size = memory_size\n",
    "        self.memory = deque(maxlen=memory_size)\n",
    "        self.alpha = alpha\n",
    "        self.priority = deque(maxlen=memory_size)\n",
    "        self.probs = np.zeros(memory_size)\n",
    "        \n",
    "    def add(self, *args):\n",
    "        max_prior = max(self.priority) if self.memory else 1.\n",
    "        t = {'state':args[0],'action':args[1],'reward':args[2],'next_state':args[3],'done':args[4]}\n",
    "        self.memory.append(t)\n",
    "        #give latest transition max priority for optimistic start\n",
    "        self.priority.append(max_prior)\n",
    "        \n",
    "    def prior_to_prob(self):\n",
    "        #uniform sampling when alpha is 0\n",
    "        probs = np.array([i**self.alpha for i in self.priority]) \n",
    "        self.probs[range(len(self.priority))] = probs\n",
    "        self.probs /= np.sum(self.probs)\n",
    "        \n",
    "    def sample(self, batch_size, beta = 0.4):\n",
    "        #calculate prob every time we will sample\n",
    "        self.prior_to_prob()\n",
    "        idx = np.random.choice(range(self.memory_size), batch_size, replace=False, p=self.probs)\n",
    "        ts = [self.memory[i] for i in idx]\n",
    "        \n",
    "        #stitch tuple\n",
    "        states = tf.cast(np.vstack([t['state'] for t in ts]),dtype=tf.float32)\n",
    "        actions = tf.cast(np.vstack([t['action'] for t in ts]),dtype=tf.int32)\n",
    "        rewards = tf.cast(np.vstack([t['reward'] for t in ts]),dtype=tf.float32)\n",
    "        next_states = tf.cast(np.vstack([t['next_state'] for t in ts]),dtype=tf.float32)\n",
    "        dones = tf.cast(np.vstack([t['done'] for t in ts]),dtype=tf.float32)\n",
    "        \n",
    "        #importance sampling weights\n",
    "        #higher beta, higher compensation for prioritized sampling\n",
    "        sampling_weights = (len(self.memory)*self.probs[idx])**(-beta)\n",
    "        #normalize by max weight to always scale down\n",
    "        sampling_weights = sampling_weights / np.max(sampling_weights) \n",
    "        sampling_weights = tf.cast(sampling_weights, dtype=tf.float32)\n",
    "        return(states,actions,rewards,next_states,dones,idx,sampling_weights)\n",
    "    \n",
    "    def update_priority(self, idx, losses):\n",
    "        for i, l in zip(idx, losses): \n",
    "            self.priority[i] = l.numpy().squeeze()\n",
    "        \n",
    "    def __len__(self):\n",
    "        return len(self.memory)"
   ]
  },
  {
   "cell_type": "markdown",
   "metadata": {
    "hidden": true
   },
   "source": [
    "**Coding Assignment** Create `get_beta` and `wis_loss` methods in agent and modify `learn` to accommodate for prioritized memory."
   ]
  },
  {
   "cell_type": "code",
   "execution_count": 43,
   "metadata": {
    "hidden": true
   },
   "outputs": [],
   "source": [
    "class DQNAgent:\n",
    "    def __init__(self, state_size, action_size, replay_memory,\n",
    "        lr=1e-3, bs = 64, clip=1., hidden_sizes = [256,256],\n",
    "        gamma=0.99, tau= 1e-3, update_interval = 5, update_times = 1,\n",
    "        Architecture=DenseNetwork, double=True):\n",
    "        \n",
    "        self.state_size = state_size\n",
    "        self.action_size = action_size\n",
    "        self.hidden_sizes = hidden_sizes\n",
    "        self.lr = lr\n",
    "        self.bs = bs\n",
    "        self.gamma = gamma\n",
    "        self.update_interval = update_interval\n",
    "        self.update_times = update_times\n",
    "        self.tau = tau\n",
    "        self.losses = []\n",
    "        self.clip = clip\n",
    "        self.Architecture = Architecture\n",
    "        self.double = double\n",
    "\n",
    "        #networks\n",
    "        self.network_local = Architecture(output_size=self.action_size, hidden_sizes = self.hidden_sizes, \n",
    "            input_size=state_size)\n",
    "        self.network_local.build(input_shape=(None,self.state_size))\n",
    "        self.network_target = Architecture(output_size=self.action_size,hidden_sizes=self.hidden_sizes,\n",
    "            input_size=state_size)\n",
    "        self.network_target.build(input_shape=(None,self.state_size))\n",
    "        #make the target network exactly same as the local network\n",
    "        self.network_target.set_weights(self.network_local.get_weights())\n",
    "        \n",
    "        #optimizer\n",
    "        self.optimizer = tf.keras.optimizers.Adam(learning_rate = self.lr, clipvalue=self.clip)\n",
    "        \n",
    "        # replay memory\n",
    "        self.memory = replay_memory\n",
    "        # count time steps and episodes\n",
    "        self.t_step = 0\n",
    "        self.episodes = 0\n",
    "    \n",
    "    def step(self, state, action, reward, next_state, done):\n",
    "        #add transition to replay memory\n",
    "        self.memory.add(state, action, reward, next_state, done, #for all others\n",
    "            self.episodes, self.t_step) #for nstep memory\n",
    "\n",
    "        #increment episodes if done\n",
    "        if done: \n",
    "            self.t_step = 0\n",
    "            self.episodes+=1\n",
    "        \n",
    "        #update target network\n",
    "        self.soft_update()\n",
    "        #self.hard_update()\n",
    "        \n",
    "        # learn every self.t_step\n",
    "        self.t_step += 1\n",
    "        if self.t_step % self.update_interval == 0:\n",
    "            if len(self.memory) > self.bs:\n",
    "                for _ in range(self.update_times):\n",
    "                    if isinstance(self.memory,PrioritizedMemory):\n",
    "                        transitions = self.memory.sample(self.bs, self.get_beta(self.episodes))\n",
    "                    else:\n",
    "                        transitions = self.memory.sample(self.bs)\n",
    "                    loss = self.learn(transitions)\n",
    "                    self.losses.append(loss)\n",
    "\n",
    "    def act(self, state):\n",
    "        eps = self.get_eps(self.episodes)\n",
    "        action_values = self.network_local(tf.cast(state[None,:],dtype=tf.float32))\n",
    "        #epsilon greedy exploration\n",
    "        if random.random() > eps:\n",
    "            return np.argmax(action_values.numpy())\n",
    "        else:\n",
    "            return random.choice(np.arange(self.action_size))\n",
    "\n",
    "    #we use tf.function decorator for training process to switch from eager to static graph\n",
    "    #NOT compatible with PrioritizedMemory yet\n",
    "    #with decorator\n",
    "    #1.64 ms ± 45.3 µs per loop (mean ± std. dev. of 7 runs, 1000 loops each)\n",
    "    #without decorator\n",
    "    #2.93 ms ± 442 µs per loop (mean ± std. dev. of 7 runs, 100 loops each)\n",
    "#     @tf.function\n",
    "    def learn(self, transitions):\n",
    "        '''\n",
    "        Fill in the codes\n",
    "        '''\n",
    "        if isinstance(self.memory, PrioritizedMemory):\n",
    "            states, actions, rewards, next_states, dones, idx, sampling_weights = transitions\n",
    "        else:\n",
    "            states, actions, rewards, next_states, dones = transitions\n",
    "\n",
    "        if self.double:\n",
    "            max_actions_next = tf.cast(tf.argmax(self.network_local(next_states),1), dtype=tf.int32)\n",
    "            seq = tf.range(0, actions.shape[0])\n",
    "            max_action_idxs = tf.transpose(tf.stack([seq, max_actions_next]))\n",
    "            q_targets_next = tf.gather_nd(self.network_target(next_states), max_action_idxs)[:,tf.newaxis]\n",
    "        else:\n",
    "            q_targets_next = tf.reduce_max(self.network_target(next_states),1)[:,tf.newaxis]\n",
    "            \n",
    "        #bellman\n",
    "        q_targets = rewards + (self.gamma * q_targets_next) * (1 - dones)\n",
    "        q_targets = q_targets[:,0] #flatten q_targets\n",
    "\n",
    "        with tf.GradientTape() as tape:\n",
    "            #get predictions of all actions\n",
    "            preds = self.network_local(states)\n",
    "            \n",
    "            #get index of actions used to calculate q_expected\n",
    "            actions = actions[:,0] #flatten actions\n",
    "            seq = tf.range(0, actions.shape[0])\n",
    "            action_idxs = tf.transpose(tf.stack([seq, actions]))\n",
    "\n",
    "            #get q values only at specific action indice\n",
    "            #tensorflow has this weird way to gather where you need to put index as\n",
    "            #[[0, action_idx1],[1, action_idx2],...,[n, action_idxn]]\n",
    "            q_expected = tf.gather_nd(preds, action_idxs)\n",
    "            \n",
    "            '''\n",
    "            Fill in the codes\n",
    "            '''\n",
    "            #calculate loss\n",
    "            if isinstance(self.memory, PrioritizedMemory):\n",
    "                loss = self.wis_loss(q_targets, q_expected, idx, sampling_weights)\n",
    "            else:\n",
    "                loss = self.vanilla_loss(q_targets, q_expected)\n",
    "            \n",
    "            #get gradients\n",
    "            gradients = tape.gradient(loss, self.network_local.trainable_weights)\n",
    "        \n",
    "        #apply gradients\n",
    "        self.optimizer.apply_gradients(zip(gradients,self.network_local.trainable_weights))\n",
    "        \n",
    "        return loss\n",
    "\n",
    "    def vanilla_loss(self, q_targets, q_expected):\n",
    "        return tf.keras.losses.mse(q_targets, q_expected)\n",
    "\n",
    "    def hard_update(self):\n",
    "        if self.t_step % 1/self.tau==0:\n",
    "            self.network_target.set_weights(self.network_local.get_weights())\n",
    "\n",
    "    def soft_update(self):\n",
    "        weights_local = np.array(self.network_local.get_weights())\n",
    "        weights_target = np.array(self.network_target.get_weights())\n",
    "        self.network_target.set_weights(self.tau * weights_local + (1 - self.tau) * weights_target)\n",
    "        \n",
    "    def get_eps(self, i, eps_start = 1., eps_end = 0.001, eps_decay = 0.9):\n",
    "        eps = max(eps_start * (eps_decay ** i), eps_end)\n",
    "        return(eps)\n",
    "    \n",
    "    '''\n",
    "    Fill in the codes\n",
    "    '''\n",
    "    def wis_loss(self, q_targets, q_expected, idx, sampling_weights, small_e=1e-5):\n",
    "        losses = tf.pow(q_expected-q_targets, 2) * sampling_weights\n",
    "        self.memory.update_priority(idx,losses+small_e)\n",
    "        loss = tf.reduce_mean(losses)\n",
    "        return loss\n",
    "    \n",
    "    def get_beta(self, i, beta_start = 0.4, beta_end = 1, beta_growth = 1.2):\n",
    "        beta = min(beta_start * (beta_growth ** i), beta_end)\n",
    "        return(beta)"
   ]
  },
  {
   "cell_type": "code",
   "execution_count": 44,
   "metadata": {
    "hidden": true
   },
   "outputs": [
    {
     "name": "stdout",
     "output_type": "stream",
     "text": [
      "\u001b[33mWARN: gym.spaces.Box autodetected dtype as <class 'numpy.float32'>. Please provide explicit dtype.\u001b[0m\n"
     ]
    },
    {
     "data": {
      "application/vnd.jupyter.widget-view+json": {
       "model_id": "355347914662458796e7b16dcbbaf54b",
       "version_major": 2,
       "version_minor": 0
      },
      "text/plain": [
       "HBox(children=(IntProgress(value=0, max=10000), HTML(value='')))"
      ]
     },
     "metadata": {},
     "output_type": "display_data"
    },
    {
     "name": "stderr",
     "output_type": "stream",
     "text": [
      "WARNING: Logging before flag parsing goes to stderr.\n",
      "W0925 10:58:17.345214 140080772941568 deprecation.py:323] From /home/charin/anaconda3/envs/drlnd/lib/python3.6/site-packages/tensorflow/python/ops/math_grad.py:1205: add_dispatch_support.<locals>.wrapper (from tensorflow.python.ops.array_ops) is deprecated and will be removed in a future version.\n",
      "Instructions for updating:\n",
      "Use tf.where in 2.0, which has the same broadcast rule as np.where\n"
     ]
    },
    {
     "name": "stdout",
     "output_type": "stream",
     "text": [
      "Episdoe 99 Moving Average: 13.191919191919192\n",
      "Episdoe 199 Moving Average: 10.89\n",
      "Episdoe 299 Moving Average: 81.31\n",
      "Solved at Play 305: 0:03:26.139812 Moving average: 101.56\n"
     ]
    }
   ],
   "source": [
    "env = gym.make('CartPole-v1')\n",
    "mem = PrioritizedMemory(int(1e5)) \n",
    "a = DQNAgent(state_size = env.reset().shape[0], hidden_sizes = [256,256],\n",
    "             action_size = env.action_space.n, replay_memory = mem,\n",
    "             Architecture = DuelingNetwork) \n",
    "scores, moving_scores, losses, action_df, weight_df = run_agent(env,a)"
   ]
  },
  {
   "cell_type": "markdown",
   "metadata": {
    "heading_collapsed": true
   },
   "source": [
    "## N-Step Bootstrapping"
   ]
  },
  {
   "cell_type": "markdown",
   "metadata": {
    "hidden": true
   },
   "source": [
    "**Conceptual Assignment** How do Monte Carlo methods estimate the action/value function? What is the difference between that and of temporal difference methods like Q-learning?"
   ]
  },
  {
   "cell_type": "markdown",
   "metadata": {
    "hidden": true
   },
   "source": [
    "N-step bootstrapping is a very simple concept, so simple that in fact the Rainbow paper did not cite any paper for this but [Introduction to Reinforcement Learning](http://incompleteideas.net/book/bookdraft2017nov5.pdf) book from Page 115 on instead:\n",
    "* Monte Carlo\n",
    "$$G_t = R_{t+1} + \\gamma R_{t+2} + \\gamma^2 R_{t+3} + ... + \\gamma^T-t-1 R_{terminal}$$\n",
    "* TD (1-step bootstrapping)\n",
    "$$G_t = R_{t+1} + \\gamma V_t(S_{t+1})$$\n",
    "* 2-step bootstrapping\n",
    "$$G_t = R_{t+1} + \\gamma R_{t+2} + \\gamma^2 V_t(S_{t+2})$$\n",
    "* N-step bootstrapping\n",
    "$$G_t = R_{t+1} + \\gamma R_{t+2} + \\gamma^2 R_{t+3} + ... + \\gamma^{n-1}R_{t+n} + \\gamma^n V_{t+n-1}(S_{t+n})$$\n",
    "\n",
    "\n",
    "![nstep.png](https://i.postimg.cc/JzsjZKZW/nstep.png)\n",
    "\n",
    "**Conceptual Assignment** What is the bias-variance tradeoff between Monte Carlo and temporal difference methods?"
   ]
  },
  {
   "cell_type": "markdown",
   "metadata": {
    "hidden": true
   },
   "source": [
    "**Coding Assigment** Create a helper function that generates a discounted return based on a list of returns and discount factor `gamma`."
   ]
  },
  {
   "cell_type": "code",
   "execution_count": 46,
   "metadata": {
    "hidden": true
   },
   "outputs": [],
   "source": [
    "def discounted_returns(returns, gamma = 0.5):\n",
    "    '''\n",
    "    Fill in the codes\n",
    "    '''\n",
    "    G = 0\n",
    "    for i in range(len(returns)):\n",
    "        G+=returns[i] * gamma ** i\n",
    "    return G"
   ]
  },
  {
   "cell_type": "code",
   "execution_count": 48,
   "metadata": {
    "hidden": true
   },
   "outputs": [
    {
     "data": {
      "text/plain": [
       "1.9375"
      ]
     },
     "execution_count": 48,
     "metadata": {},
     "output_type": "execute_result"
    }
   ],
   "source": [
    "discounted_returns([1,1,1,1,1],gamma=0.5)"
   ]
  },
  {
   "cell_type": "markdown",
   "metadata": {
    "hidden": true
   },
   "source": [
    "**[Hard] Coding Assignment** Create an N-step memory."
   ]
  },
  {
   "cell_type": "code",
   "execution_count": 49,
   "metadata": {
    "hidden": true
   },
   "outputs": [],
   "source": [
    "class NStepMemory:\n",
    "    def __init__(self, memory_size, n = 2, update_every=100, gamma = 0.99):\n",
    "        self.memory_size = memory_size\n",
    "        self.memory = []\n",
    "        self.n = n #n=1 is normal q-learning\n",
    "        self.gamma = 0.99\n",
    "        self.df = None\n",
    "        self.update_every = update_every\n",
    "        \n",
    "    def add(self, *args):\n",
    "        t = {'state':args[0],\n",
    "             'action':args[1],\n",
    "             'reward':args[2],\n",
    "             # 'real_next_state':args[3], #for debugging\n",
    "             'done':args[4],\n",
    "             'episode':args[5],\n",
    "             'timestep':args[6]}\n",
    "        self.memory.append(t)\n",
    "        if len(self.memory) > self.update_every:\n",
    "            self.update_df()\n",
    "            self.memory = []\n",
    "        \n",
    "    def update_df(self):\n",
    "        df = pd.DataFrame(self.memory)\n",
    "       #self.df['lag_timestep'] = self.df.groupby('episode').timestep.shift(-self.n) #for debugging\n",
    "        df['next_state'] = df.groupby('episode').state.shift(-self.n)\n",
    "        df['discounted_return'] = df.groupby('episode').reward.rolling(self.n)\\\n",
    "            .apply(discounted_returns,raw=True).shift(-(self.n-1)).reset_index().reward\n",
    "        #fill in next_state when done as state; reward as discounted returns\n",
    "        df.loc[df.next_state.isna(), 'next_state'] = df[df.next_state.isna()]['state']\n",
    "        df.loc[df.discounted_return.isna(), 'discounted_return'] = df[df.discounted_return.isna()]['reward']\n",
    "\n",
    "        #concat\n",
    "        self.df = pd.concat([self.df,df],0).reset_index(drop=True)\n",
    "        self.df = self.df.tail(self.memory_size)\n",
    "\n",
    "    def sample(self, batch_size):\n",
    "        idx = np.random.choice(range(self.df.shape[0]), batch_size, replace=False)\n",
    "        t = self.df.iloc[idx,:]\n",
    "        states = tf.cast(np.vstack(t['state']),dtype=tf.float32)\n",
    "        actions = tf.cast(np.vstack(t['action']),dtype=tf.int32)\n",
    "        rewards = tf.cast(np.vstack(t['discounted_return']),dtype=tf.float32)\n",
    "        next_states = tf.cast(np.vstack(t['next_state']),dtype=tf.float32)\n",
    "        dones = tf.cast(np.vstack(t['done']),dtype=tf.float32)\n",
    "        return(states,actions,rewards,next_states,dones)\n",
    "    \n",
    "    def __len__(self):\n",
    "        if self.df is None:\n",
    "            return 0\n",
    "        else:\n",
    "            return self.df.shape[0]"
   ]
  },
  {
   "cell_type": "markdown",
   "metadata": {
    "hidden": true
   },
   "source": [
    "You will need to modify `q_targets` in the agent also:"
   ]
  },
  {
   "cell_type": "code",
   "execution_count": 50,
   "metadata": {
    "hidden": true
   },
   "outputs": [],
   "source": [
    "# if isinstance(self.memory, NStepMemory):\n",
    "#     #these are not real rewards but discounted returns and we use Q for the n-th step\n",
    "#     q_targets = rewards + (self.gamma**self.memory.n * q_targets_next) * (1 - dones)\n",
    "# else:\n",
    "#     q_targets = rewards + (self.gamma * q_targets_next) * (1 - dones)"
   ]
  },
  {
   "cell_type": "markdown",
   "metadata": {
    "heading_collapsed": true
   },
   "source": [
    "## [Noisy Exploration](https://arxiv.org/pdf/1706.10295.pdf)"
   ]
  },
  {
   "cell_type": "markdown",
   "metadata": {
    "hidden": true
   },
   "source": [
    "**Conceptual Assignment** How have we handle explore-vs-exploit dilemma so far? Is there a better way?"
   ]
  },
  {
   "cell_type": "markdown",
   "metadata": {
    "hidden": true
   },
   "source": [
    "Noisy linear layer involves adding factorized Gaussian noise to the weights and biases defined as follows:\n",
    "\n",
    "$$W = \\mu_W + \\sigma_W * \\epsilon^W_{out,in}$$\n",
    "$$b = \\mu_b + \\sigma_b * \\epsilon^W_{out,in}$$\n",
    "$$y = xW^T + b$$\n",
    "\n",
    "For factorized Gaussian noise, in order to minize computations, we use only two sets of randomized epsilons:\n",
    "\n",
    "$$\\epsilon^W_{out,in} = f(\\epsilon_{in})f(\\epsilon_{out})$$\n",
    "$$\\epsilon^b_{out} = f(\\epsilon_{out})$$\n",
    "\n",
    "where $f(x)= sign(x)\\sqrt{|x|}$ and $in$ and $out$ are number of input and output features.\n",
    "\n",
    "The initializations are as follows:\n",
    "\n",
    "* $\\mu_W$ and $\\mu_b$ from independent uniform distribution $[\\frac{-1}{\\sqrt{in}},\\frac{+1}{\\sqrt{in}}]$\n",
    "* $\\sigma_W$ and $\\sigma_W$ are initialized to $\\frac{sigma_0}{\\sqrt{in}}$\n",
    "\n",
    "$\\sigma_0$ is proposed to be 0.5 in the paper but is a tunable hyperparameter (the larger it is the higher noise)."
   ]
  },
  {
   "cell_type": "markdown",
   "metadata": {
    "hidden": true
   },
   "source": [
    "**Coding Assigment** Create a `NoisyDense` layer and incorporate it into your `DenseNetwork`, call it maybe `NoisyDenseNetwork`."
   ]
  },
  {
   "cell_type": "code",
   "execution_count": 61,
   "metadata": {
    "hidden": true
   },
   "outputs": [],
   "source": [
    "'''\n",
    "Fill in the codes\n",
    "'''\n",
    "class NoisyDense(layers.Layer):\n",
    "    def __init__(self, output_size, input_size, activation=None):\n",
    "        super(NoisyDense, self).__init__()\n",
    "        self.output_size = output_size\n",
    "        self.input_size = input_size\n",
    "        self.activation = activation\n",
    "\n",
    "        mu_range = 1 / self.input_size**(1/2)\n",
    "        self.w_mu = tf.Variable(initial_value=tf.random.uniform(shape=(self.input_size,self.output_size),\n",
    "        \tminval=-mu_range,maxval=mu_range), trainable=True)\n",
    "        self.b_mu = tf.Variable(initial_value=tf.random.uniform(shape=(self.output_size,),minval=-mu_range,\n",
    "        \tmaxval=mu_range), trainable=True)\n",
    "\n",
    "        sigma_range = 0.01 / self.input_size**(1/2)\n",
    "        self.w_sigma = tf.Variable(initial_value=tf.random.uniform(shape=(self.input_size,self.output_size),\n",
    "        \tminval=-sigma_range,maxval=sigma_range), trainable=True)\n",
    "        self.b_sigma = tf.Variable(initial_value=tf.random.uniform(shape=(self.output_size,),\n",
    "        \tminval=-sigma_range,maxval=sigma_range), trainable=True)\n",
    "\n",
    "        self.reset_noise()\n",
    "\n",
    "    def reset_noise(self):\n",
    "        e_in = self.factorize_noise(self.input_size)\n",
    "        e_out = self.factorize_noise(self.output_size)\n",
    "        self.w_epsilon = tf.linalg.tensordot(e_in,e_out,axes=0)\n",
    "        self.b_epsilon = e_out\n",
    "\n",
    "    def factorize_noise(self, size):\n",
    "        x = tf.random.normal((size,))\n",
    "        x = tf.sign(x) * tf.sqrt(tf.abs(x))\n",
    "        return x\n",
    "        \n",
    "    def call(self, x, training=True):\n",
    "        if training:\n",
    "            w = self.w_mu + self.w_sigma * self.w_epsilon\n",
    "            b = self.b_mu + self.b_sigma * self.b_epsilon\n",
    "        else:\n",
    "            w = self.w_mu\n",
    "            b = self.b_mu\n",
    "        res = x@w + b\n",
    "        if self.activation is not None: res = self.activation(res)\n",
    "        return res"
   ]
  },
  {
   "cell_type": "code",
   "execution_count": 62,
   "metadata": {
    "code_folding": [],
    "hidden": true
   },
   "outputs": [],
   "source": [
    "'''\n",
    "Fill in the codes\n",
    "'''\n",
    "class NoisyDenseNetwork(models.Model):\n",
    "    def __init__(self, output_size, hidden_sizes, input_size, **args):\n",
    "        super(NoisyDenseNetwork, self).__init__()\n",
    "        # self.body = [NoisyDense(hidden_sizes[0], input_size, tf.nn.relu)]\n",
    "        # for i in range(1, len(hidden_sizes)):\n",
    "        #     self.body.append(NoisyDense(hidden_sizes[i],hidden_sizes[i-1], tf.nn.relu))\n",
    "        self.body = [layers.Dense(i, activation='relu') for i in hidden_sizes]\n",
    "        self.head = NoisyDense(output_size, hidden_sizes[-1])\n",
    "        self.reset_noise()\n",
    "    def call(self, x, training=True):\n",
    "        for l in self.body: x = l(x) \n",
    "        return self.head(x, training)\n",
    "    def reset_noise(self):\n",
    "        # for l in self.body: l.reset_noise()\n",
    "        self.head.reset_noise()"
   ]
  },
  {
   "cell_type": "code",
   "execution_count": 63,
   "metadata": {
    "code_folding": [],
    "hidden": true
   },
   "outputs": [],
   "source": [
    "class DQNAgent:\n",
    "    def __init__(self, state_size, action_size, replay_memory,\n",
    "        lr=1e-3, bs = 64, clip=1., hidden_sizes = [256,256],\n",
    "        gamma=0.99, tau= 1e-3, update_interval = 5, update_times = 1,\n",
    "        Architecture=DenseNetwork, double=True):\n",
    "        \n",
    "        self.state_size = state_size\n",
    "        self.action_size = action_size\n",
    "        self.hidden_sizes = hidden_sizes\n",
    "        self.lr = lr\n",
    "        self.bs = bs\n",
    "        self.gamma = gamma\n",
    "        self.update_interval = update_interval\n",
    "        self.update_times = update_times\n",
    "        self.tau = tau\n",
    "        self.losses = []\n",
    "        self.clip = clip\n",
    "        self.Architecture = Architecture\n",
    "        self.double = double\n",
    "\n",
    "        #networks\n",
    "        self.network_local = Architecture(output_size=self.action_size, hidden_sizes = self.hidden_sizes, \n",
    "            input_size=state_size)\n",
    "        self.network_local.build(input_shape=(None,self.state_size))\n",
    "        self.network_target = Architecture(output_size=self.action_size,hidden_sizes=self.hidden_sizes,\n",
    "            input_size=state_size)\n",
    "        self.network_target.build(input_shape=(None,self.state_size))\n",
    "        #make the target network exactly same as the local network\n",
    "        self.network_target.set_weights(self.network_local.get_weights())\n",
    "        \n",
    "        #optimizer\n",
    "        self.optimizer = tf.keras.optimizers.Adam(learning_rate = self.lr, clipvalue=self.clip)\n",
    "        \n",
    "        # replay memory\n",
    "        self.memory = replay_memory\n",
    "        # count time steps and episodes\n",
    "        self.t_step = 0\n",
    "        self.episodes = 0\n",
    "    \n",
    "    def step(self, state, action, reward, next_state, done):\n",
    "        #add transition to replay memory\n",
    "        self.memory.add(state, action, reward, next_state, done, #for all others\n",
    "            self.episodes, self.t_step) #for nstep memory\n",
    "\n",
    "        #increment episodes if done\n",
    "        if done: \n",
    "            self.t_step = 0\n",
    "            self.episodes+=1\n",
    "        \n",
    "        #update target network\n",
    "        self.soft_update()\n",
    "        #self.hard_update()\n",
    "        \n",
    "        # learn every self.t_step\n",
    "        self.t_step += 1\n",
    "        if self.t_step % self.update_interval == 0:\n",
    "            if len(self.memory) > self.bs:\n",
    "                for _ in range(self.update_times):\n",
    "                    if isinstance(self.memory,PrioritizedMemory):\n",
    "                        transitions = self.memory.sample(self.bs, self.get_beta(self.episodes))\n",
    "                    else:\n",
    "                        transitions = self.memory.sample(self.bs)\n",
    "                    loss = self.learn(transitions)\n",
    "                    self.losses.append(loss)\n",
    "\n",
    "    def act(self, state):\n",
    "        eps = self.get_eps(self.episodes)\n",
    "        action_values = self.network_local(tf.cast(state[None,:],dtype=tf.float32))\n",
    "        '''\n",
    "        Fill in the codes to perform noisey exploration instead of epsilon-greedy\n",
    "        '''\n",
    "        if isinstance(self.network_local, NoisyDenseNetwork):\n",
    "            return np.argmax(action_values.numpy())\n",
    "        \n",
    "        #epsilon greedy exploration\n",
    "        if random.random() > eps:\n",
    "            return np.argmax(action_values.numpy())\n",
    "        else:\n",
    "            return random.choice(np.arange(self.action_size))\n",
    "\n",
    "    #we use tf.function decorator for training process to switch from eager to static graph\n",
    "    #NOT compatible with PrioritizedMemory yet\n",
    "    #with decorator\n",
    "    #1.64 ms ± 45.3 µs per loop (mean ± std. dev. of 7 runs, 1000 loops each)\n",
    "    #without decorator\n",
    "    #2.93 ms ± 442 µs per loop (mean ± std. dev. of 7 runs, 100 loops each)\n",
    "#     @tf.function\n",
    "    def learn(self, transitions):\n",
    "        if isinstance(self.memory, PrioritizedMemory):\n",
    "            states, actions, rewards, next_states, dones, idx, sampling_weights = transitions\n",
    "        else:\n",
    "            states, actions, rewards, next_states, dones = transitions\n",
    "\n",
    "        if self.double:\n",
    "            max_actions_next = tf.cast(tf.argmax(self.network_local(next_states),1), dtype=tf.int32)\n",
    "            seq = tf.range(0, actions.shape[0])\n",
    "            max_action_idxs = tf.transpose(tf.stack([seq, max_actions_next]))\n",
    "            q_targets_next = tf.gather_nd(self.network_target(next_states), max_action_idxs)[:,tf.newaxis]\n",
    "        else:\n",
    "            q_targets_next = tf.reduce_max(self.network_target(next_states),1)[:,tf.newaxis]\n",
    "            \n",
    "        #bellman\n",
    "        if isinstance(self.memory, NStepMemory):\n",
    "            #these are not real rewards but discounted returns and we use Q for the n-th step\n",
    "            q_targets = rewards + (self.gamma**self.memory.n * q_targets_next) * (1 - dones)\n",
    "        else:\n",
    "            q_targets = rewards + (self.gamma * q_targets_next) * (1 - dones)\n",
    "        q_targets = q_targets[:,0] #flatten q_targets\n",
    "\n",
    "        with tf.GradientTape() as tape:\n",
    "            #get predictions of all actions\n",
    "            preds = self.network_local(states)\n",
    "            \n",
    "            #get index of actions used to calculate q_expected\n",
    "            actions = actions[:,0] #flatten actions\n",
    "            seq = tf.range(0, actions.shape[0])\n",
    "            action_idxs = tf.transpose(tf.stack([seq, actions]))\n",
    "\n",
    "            #get q values only at specific action indice\n",
    "            #tensorflow has this weird way to gather where you need to put index as\n",
    "            #[[0, action_idx1],[1, action_idx2],...,[n, action_idxn]]\n",
    "            q_expected = tf.gather_nd(preds, action_idxs)\n",
    "            \n",
    "            #calculate loss\n",
    "            if isinstance(self.memory, PrioritizedMemory):\n",
    "                loss = self.wis_loss(q_targets, q_expected, idx, sampling_weights)\n",
    "            else:\n",
    "                loss = self.vanilla_loss(q_targets, q_expected)\n",
    "            \n",
    "            #get gradients\n",
    "            gradients = tape.gradient(loss, self.network_local.trainable_weights)\n",
    "        \n",
    "        #apply gradients\n",
    "        self.optimizer.apply_gradients(zip(gradients,self.network_local.trainable_weights))\n",
    "\n",
    "        '''\n",
    "        Fill in the codes to reset noise\n",
    "        '''\n",
    "        if isinstance(self.network_local,NoisyDenseNetwork): self.network_local.reset_noise()\n",
    "\n",
    "        return loss\n",
    "\n",
    "    def vanilla_loss(self, q_targets, q_expected):\n",
    "        return tf.keras.losses.mse(q_targets, q_expected)\n",
    "\n",
    "    def hard_update(self):\n",
    "        if self.t_step % 1/self.tau==0:\n",
    "            self.network_target.set_weights(self.network_local.get_weights())\n",
    "\n",
    "    def soft_update(self):\n",
    "        weights_local = np.array(self.network_local.get_weights())\n",
    "        weights_target = np.array(self.network_target.get_weights())\n",
    "        self.network_target.set_weights(self.tau * weights_local + (1 - self.tau) * weights_target)\n",
    "        \n",
    "    def get_eps(self, i, eps_start = 1., eps_end = 0.001, eps_decay = 0.9):\n",
    "        eps = max(eps_start * (eps_decay ** i), eps_end)\n",
    "        return(eps)\n",
    "    \n",
    "    def wis_loss(self, q_targets, q_expected, idx, sampling_weights, small_e=1e-5):\n",
    "        losses = tf.pow(q_expected-q_targets, 2) * sampling_weights\n",
    "        self.memory.update_priority(idx,losses+small_e)\n",
    "        loss = tf.reduce_mean(losses)\n",
    "        return loss\n",
    "    \n",
    "    def get_beta(self, i, beta_start = 0.4, beta_end = 1, beta_growth = 1.2):\n",
    "        beta = min(beta_start * (beta_growth ** i), beta_end)\n",
    "        return(beta)"
   ]
  },
  {
   "cell_type": "code",
   "execution_count": 64,
   "metadata": {
    "hidden": true
   },
   "outputs": [
    {
     "name": "stdout",
     "output_type": "stream",
     "text": [
      "\u001b[33mWARN: gym.spaces.Box autodetected dtype as <class 'numpy.float32'>. Please provide explicit dtype.\u001b[0m\n"
     ]
    },
    {
     "data": {
      "application/vnd.jupyter.widget-view+json": {
       "model_id": "91101e6f7ab84cc48230ae14fe752b55",
       "version_major": 2,
       "version_minor": 0
      },
      "text/plain": [
       "HBox(children=(IntProgress(value=0, max=10000), HTML(value='')))"
      ]
     },
     "metadata": {},
     "output_type": "display_data"
    },
    {
     "name": "stdout",
     "output_type": "stream",
     "text": [
      "Episdoe 99 Moving Average: 9.797979797979798\n",
      "Episdoe 199 Moving Average: 9.44\n",
      "Episdoe 299 Moving Average: 9.38\n",
      "Episdoe 399 Moving Average: 9.43\n",
      "Episdoe 499 Moving Average: 9.28\n",
      "Episdoe 599 Moving Average: 9.65\n",
      "Episdoe 699 Moving Average: 40.74\n",
      "Solved at Play 728: 0:04:08.438498 Moving average: 100.16\n"
     ]
    }
   ],
   "source": [
    "env = gym.make('CartPole-v1')\n",
    "mem = PrioritizedMemory(int(1e5)) \n",
    "a = DQNAgent(state_size = env.reset().shape[0], hidden_sizes = [256,256],\n",
    "             action_size = env.action_space.n, replay_memory = mem,\n",
    "             Architecture = NoisyDenseNetwork) \n",
    "scores, moving_scores, losses, action_df, weight_df = run_agent(env,a)"
   ]
  },
  {
   "cell_type": "code",
   "execution_count": 65,
   "metadata": {
    "hidden": true
   },
   "outputs": [
    {
     "data": {
      "text/plain": [
       "[<matplotlib.lines.Line2D at 0x7f6694ff64e0>]"
      ]
     },
     "execution_count": 65,
     "metadata": {},
     "output_type": "execute_result"
    },
    {
     "data": {
      "image/png": "[encoded data removed]",
      "text/plain": [
       "<Figure size 432x288 with 1 Axes>"
      ]
     },
     "metadata": {
      "needs_background": "light"
     },
     "output_type": "display_data"
    }
   ],
   "source": [
    "plt.plot(scores)\n",
    "plt.plot(moving_scores)"
   ]
  },
  {
   "cell_type": "markdown",
   "metadata": {
    "heading_collapsed": true
   },
   "source": [
    "## Conclusion"
   ]
  },
  {
   "cell_type": "markdown",
   "metadata": {
    "hidden": true
   },
   "source": [
    "Our (almost) Rainbow agent is not a state-of-the-art in deep reinforcement learning but it allows us to understand and implement some important concepts researchers are using to implement state-of-the-art algorithms such as:\n",
    "* Decoupling training samples to over/underfitting\n",
    "* Decoupling esitmators to avoid over/underestimation\n",
    "* Efficiently reusing past transitions\n",
    "* Estimating advantage to emphasizes impactful actions\n",
    "* Selecting impactful training samples\n",
    "* Bias-variance tradeoff in estimating discounted returns\n",
    "* Explore-vs-exploit dilemma\n",
    "\n",
    "![dqn-fixed.png](https://i.postimg.cc/dt4rqZd7/dqn-fixed.png)\n"
   ]
  },
  {
   "cell_type": "markdown",
   "metadata": {
    "heading_collapsed": true
   },
   "source": [
    "## References"
   ]
  },
  {
   "cell_type": "markdown",
   "metadata": {
    "hidden": true
   },
   "source": [
    "* Fortunato, M.; Azar, M. G.; Piot, B.; Menick, J.; Osband, I.; Graves, A.; Mnih, V.; Munos, R.; Hassabis, D.; Pietquin, O.; Blundell, C.; and Legg, S. 2017. Noisy networks for exploration. CoRR abs/1706.10295.\n",
    "* Kurenkov, A. (2018). Reinforcement learning's foundational flaw. Retrieved from https://thegradient.pub/why-rl-is-flawed/\n",
    "* Mnih, V.; Kavukcuoglu, K.; Silver, D.; Graves, A.; Antonoglou, I.; Wierstra, D.; and Riedmiller, M. A. 2013.Playing atari with deep reinforcement learning. CoRR\n",
    "abs/1312.5602.\n",
    "* Russell, S. & Norvig, S. (2009). Artificial Intelligence: A Modern Approach. Third Edition. Prentice Hall.\n",
    "* Sutton, R. S., and Barto, A. G. 1998. Reinforcement Learning: An Introduction. The MIT press, Cambridge MA.\n",
    "* van Hasselt, H.; Guez, A.; and Silver, D. 2016. Deep reinforcement learning with double Q-learning. In Proc. of AAAI, 2094–2100.\n",
    "* Wang, Z.; Schaul, T.; Hessel, M.; van Hasselt, H.; Lanctot, M.; and de Freitas, N. 2016. Dueling network architectures for deep reinforcement learning. In Proceedings of The 33rd International Conference on Machine Learning, 1995–2003."
   ]
  }
 ],
 "metadata": {
  "kernelspec": {
   "display_name": "Python 3",
   "language": "python",
   "name": "python3"
  },
  "language_info": {
   "codemirror_mode": {
    "name": "ipython",
    "version": 3
   },
   "file_extension": ".py",
   "mimetype": "text/x-python",
   "name": "python",
   "nbconvert_exporter": "python",
   "pygments_lexer": "ipython3",
   "version": "3.6.8"
  }
 },
 "nbformat": 4,
 "nbformat_minor": 2
}
